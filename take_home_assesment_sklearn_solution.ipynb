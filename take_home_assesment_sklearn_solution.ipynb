{
 "cells": [
  {
   "cell_type": "markdown",
   "metadata": {
    "colab_type": "text",
    "id": "b7kCRZ0CEuWv"
   },
   "source": [
    "Importing Libraries and Data Set"
   ]
  },
  {
   "cell_type": "code",
   "execution_count": 1,
   "metadata": {
    "colab": {
     "base_uri": "https://localhost:8080/",
     "height": 175
    },
    "colab_type": "code",
    "id": "8-xUXyrW7xGU",
    "outputId": "09cb35a1-9d6a-4767-acaf-de6c985685e9"
   },
   "outputs": [
    {
     "name": "stderr",
     "output_type": "stream",
     "text": [
      "[nltk_data] Downloading package stopwords to\n",
      "[nltk_data]     C:\\Users\\holla\\AppData\\Roaming\\nltk_data...\n",
      "[nltk_data]   Package stopwords is already up-to-date!\n",
      "[nltk_data] Downloading package punkt to\n",
      "[nltk_data]     C:\\Users\\holla\\AppData\\Roaming\\nltk_data...\n",
      "[nltk_data]   Package punkt is already up-to-date!\n",
      "[nltk_data] Downloading package wordnet to\n",
      "[nltk_data]     C:\\Users\\holla\\AppData\\Roaming\\nltk_data...\n",
      "[nltk_data]   Package wordnet is already up-to-date!\n",
      "[nltk_data] Downloading package vader_lexicon to\n",
      "[nltk_data]     C:\\Users\\holla\\AppData\\Roaming\\nltk_data...\n",
      "[nltk_data]   Package vader_lexicon is already up-to-date!\n"
     ]
    },
    {
     "data": {
      "text/plain": [
       "True"
      ]
     },
     "execution_count": 1,
     "metadata": {},
     "output_type": "execute_result"
    }
   ],
   "source": [
    "import pandas as pd\n",
    "import numpy as np\n",
    "import datetime\n",
    "\n",
    "#Libraries for data visualization\n",
    "from os import path\n",
    "from PIL import Image\n",
    "from wordcloud import WordCloud, STOPWORDS, ImageColorGenerator\n",
    "import matplotlib.pyplot as plt\n",
    "%matplotlib inline\n",
    "import seaborn as sns\n",
    "\n",
    "#Libraries for text pre-processing\n",
    "import re\n",
    "import nltk\n",
    "# Stopwords needs to be downloaded before use\n",
    "from nltk.corpus import stopwords\n",
    "from nltk.stem.porter import PorterStemmer\n",
    "from nltk.tokenize import RegexpTokenizer \n",
    "from nltk.tokenize import word_tokenize\n",
    "# WordNetLemmatizer needs to be downloaded before use\n",
    "from nltk.stem.wordnet import WordNetLemmatizer\n",
    "#To track function execution\n",
    "from tqdm import tqdm\n",
    "from bs4 import BeautifulSoup\n",
    "\n",
    "#Libraries for text preparation and visualization\n",
    "from sklearn.feature_extraction.text import TfidfVectorizer\n",
    "from sklearn.feature_extraction.text import CountVectorizer\n",
    "from sklearn.feature_extraction.text import TfidfTransformer\n",
    "from sklearn.decomposition import LatentDirichletAllocation\n",
    "from scipy.sparse import coo_matrix\n",
    "\n",
    "#Libraries for Sentimental analysis\n",
    "from nltk.sentiment.vader import SentimentIntensityAnalyzer\n",
    "\n",
    "#Libraries for building machine learning model\n",
    "import spacy\n",
    "from sklearn.model_selection import train_test_split\n",
    "from sklearn.preprocessing import OneHotEncoder\n",
    "from sklearn.naive_bayes import MultinomialNB\n",
    "from sklearn.ensemble import RandomForestClassifier\n",
    "from sklearn.svm import SVC\n",
    "from sklearn import metrics\n",
    "\n",
    "#Library to load and dump the model\n",
    "from joblib import dump, load\n",
    "import pickle\n",
    "\n",
    "#Downloads\n",
    "nltk.download('stopwords')\n",
    "nltk.download('punkt')\n",
    "nltk.download('wordnet')\n",
    "nltk.download('vader_lexicon')"
   ]
  },
  {
   "cell_type": "code",
   "execution_count": 2,
   "metadata": {
    "colab": {
     "base_uri": "https://localhost:8080/",
     "height": 195
    },
    "colab_type": "code",
    "id": "ArXCoQDGB6Hc",
    "outputId": "d4ae0c34-f2c9-4627-9a90-ec07f34d5ce7"
   },
   "outputs": [
    {
     "data": {
      "text/html": [
       "<div>\n",
       "<style scoped>\n",
       "    .dataframe tbody tr th:only-of-type {\n",
       "        vertical-align: middle;\n",
       "    }\n",
       "\n",
       "    .dataframe tbody tr th {\n",
       "        vertical-align: top;\n",
       "    }\n",
       "\n",
       "    .dataframe thead th {\n",
       "        text-align: right;\n",
       "    }\n",
       "</style>\n",
       "<table border=\"1\" class=\"dataframe\">\n",
       "  <thead>\n",
       "    <tr style=\"text-align: right;\">\n",
       "      <th></th>\n",
       "      <th>time_created</th>\n",
       "      <th>date_created</th>\n",
       "      <th>up_votes</th>\n",
       "      <th>down_votes</th>\n",
       "      <th>title</th>\n",
       "      <th>over_18</th>\n",
       "      <th>author</th>\n",
       "      <th>category</th>\n",
       "    </tr>\n",
       "  </thead>\n",
       "  <tbody>\n",
       "    <tr>\n",
       "      <th>0</th>\n",
       "      <td>1201232046</td>\n",
       "      <td>2008-01-25</td>\n",
       "      <td>3</td>\n",
       "      <td>0</td>\n",
       "      <td>Scores killed in Pakistan clashes</td>\n",
       "      <td>False</td>\n",
       "      <td>polar</td>\n",
       "      <td>worldnews</td>\n",
       "    </tr>\n",
       "    <tr>\n",
       "      <th>1</th>\n",
       "      <td>1201232075</td>\n",
       "      <td>2008-01-25</td>\n",
       "      <td>2</td>\n",
       "      <td>0</td>\n",
       "      <td>Japan resumes refuelling mission</td>\n",
       "      <td>False</td>\n",
       "      <td>polar</td>\n",
       "      <td>worldnews</td>\n",
       "    </tr>\n",
       "    <tr>\n",
       "      <th>2</th>\n",
       "      <td>1201232523</td>\n",
       "      <td>2008-01-25</td>\n",
       "      <td>3</td>\n",
       "      <td>0</td>\n",
       "      <td>US presses Egypt on Gaza border</td>\n",
       "      <td>False</td>\n",
       "      <td>polar</td>\n",
       "      <td>worldnews</td>\n",
       "    </tr>\n",
       "    <tr>\n",
       "      <th>3</th>\n",
       "      <td>1201233290</td>\n",
       "      <td>2008-01-25</td>\n",
       "      <td>1</td>\n",
       "      <td>0</td>\n",
       "      <td>Jump-start economy: Give health care to all</td>\n",
       "      <td>False</td>\n",
       "      <td>fadi420</td>\n",
       "      <td>worldnews</td>\n",
       "    </tr>\n",
       "    <tr>\n",
       "      <th>4</th>\n",
       "      <td>1201274720</td>\n",
       "      <td>2008-01-25</td>\n",
       "      <td>4</td>\n",
       "      <td>0</td>\n",
       "      <td>Council of Europe bashes EU&amp;UN terror blacklist</td>\n",
       "      <td>False</td>\n",
       "      <td>mhermans</td>\n",
       "      <td>worldnews</td>\n",
       "    </tr>\n",
       "  </tbody>\n",
       "</table>\n",
       "</div>"
      ],
      "text/plain": [
       "   time_created date_created  up_votes  down_votes  \\\n",
       "0    1201232046   2008-01-25         3           0   \n",
       "1    1201232075   2008-01-25         2           0   \n",
       "2    1201232523   2008-01-25         3           0   \n",
       "3    1201233290   2008-01-25         1           0   \n",
       "4    1201274720   2008-01-25         4           0   \n",
       "\n",
       "                                             title  over_18    author  \\\n",
       "0                Scores killed in Pakistan clashes    False     polar   \n",
       "1                 Japan resumes refuelling mission    False     polar   \n",
       "2                  US presses Egypt on Gaza border    False     polar   \n",
       "3     Jump-start economy: Give health care to all     False   fadi420   \n",
       "4  Council of Europe bashes EU&UN terror blacklist    False  mhermans   \n",
       "\n",
       "    category  \n",
       "0  worldnews  \n",
       "1  worldnews  \n",
       "2  worldnews  \n",
       "3  worldnews  \n",
       "4  worldnews  "
      ]
     },
     "execution_count": 2,
     "metadata": {},
     "output_type": "execute_result"
    }
   ],
   "source": [
    "df = pd.read_csv(\"Eluvio_DS_Challenge.csv\")\n",
    "df.head()"
   ]
  },
  {
   "cell_type": "markdown",
   "metadata": {
    "colab_type": "text",
    "id": "Ck4Fj4VnE5Lx"
   },
   "source": [
    "Text Exploration"
   ]
  },
  {
   "cell_type": "code",
   "execution_count": 0,
   "metadata": {
    "colab": {
     "base_uri": "https://localhost:8080/",
     "height": 175
    },
    "colab_type": "code",
    "id": "AQx_3JpACDZc",
    "outputId": "7de7066d-02b5-427d-cf46-ec0497051a75"
   },
   "outputs": [
    {
     "data": {
      "text/plain": [
       "time_created    0\n",
       "date_created    0\n",
       "up_votes        0\n",
       "down_votes      0\n",
       "title           0\n",
       "over_18         0\n",
       "author          0\n",
       "category        0\n",
       "dtype: int64"
      ]
     },
     "execution_count": 5,
     "metadata": {
      "tags": []
     },
     "output_type": "execute_result"
    }
   ],
   "source": [
    "# Checking for Null values.\n",
    "df.isnull().sum()"
   ]
  },
  {
   "cell_type": "code",
   "execution_count": 0,
   "metadata": {
    "colab": {},
    "colab_type": "code",
    "id": "NI7kTLjiCIDv"
   },
   "outputs": [],
   "source": [
    "# Checking for unique values in each column\n",
    "unique_plot = {}\n",
    "for i in df.columns:\n",
    "  unique_plot[i] = df[i].nunique()\n",
    "\n",
    "unique_df = pd.DataFrame(data = unique_plot, index = [0])"
   ]
  },
  {
   "cell_type": "code",
   "execution_count": 0,
   "metadata": {
    "colab": {
     "base_uri": "https://localhost:8080/",
     "height": 77
    },
    "colab_type": "code",
    "id": "c8xWqgEYFs01",
    "outputId": "872aab24-614c-41a8-9fd6-8f9bdd1aaf24"
   },
   "outputs": [
    {
     "data": {
      "text/html": [
       "<div>\n",
       "<style scoped>\n",
       "    .dataframe tbody tr th:only-of-type {\n",
       "        vertical-align: middle;\n",
       "    }\n",
       "\n",
       "    .dataframe tbody tr th {\n",
       "        vertical-align: top;\n",
       "    }\n",
       "\n",
       "    .dataframe thead th {\n",
       "        text-align: right;\n",
       "    }\n",
       "</style>\n",
       "<table border=\"1\" class=\"dataframe\">\n",
       "  <thead>\n",
       "    <tr style=\"text-align: right;\">\n",
       "      <th></th>\n",
       "      <th>time_created</th>\n",
       "      <th>date_created</th>\n",
       "      <th>up_votes</th>\n",
       "      <th>down_votes</th>\n",
       "      <th>title</th>\n",
       "      <th>over_18</th>\n",
       "      <th>author</th>\n",
       "      <th>category</th>\n",
       "    </tr>\n",
       "  </thead>\n",
       "  <tbody>\n",
       "    <tr>\n",
       "      <th>0</th>\n",
       "      <td>508329</td>\n",
       "      <td>3223</td>\n",
       "      <td>5782</td>\n",
       "      <td>1</td>\n",
       "      <td>500720</td>\n",
       "      <td>2</td>\n",
       "      <td>85838</td>\n",
       "      <td>1</td>\n",
       "    </tr>\n",
       "  </tbody>\n",
       "</table>\n",
       "</div>"
      ],
      "text/plain": [
       "   time_created  date_created  up_votes  ...  over_18  author  category\n",
       "0        508329          3223      5782  ...        2   85838         1\n",
       "\n",
       "[1 rows x 8 columns]"
      ]
     },
     "execution_count": 7,
     "metadata": {
      "tags": []
     },
     "output_type": "execute_result"
    }
   ],
   "source": [
    "unique_df"
   ]
  },
  {
   "cell_type": "markdown",
   "metadata": {
    "colab_type": "text",
    "id": "Udw5IyBmLcYm"
   },
   "source": [
    "We can see that category and down votes columns have only one value hence they dont help in modelling the algorithm. "
   ]
  },
  {
   "cell_type": "code",
   "execution_count": 0,
   "metadata": {
    "colab": {
     "base_uri": "https://localhost:8080/",
     "height": 268
    },
    "colab_type": "code",
    "id": "q6Ybs8olJHaA",
    "outputId": "6ea0e726-5d5b-4800-db5b-524761bdfc56"
   },
   "outputs": [
    {
     "data": {
      "image/png": "[encoded data removed]",
      "text/plain": [
       "<Figure size 432x288 with 1 Axes>"
      ]
     },
     "metadata": {
      "tags": []
     },
     "output_type": "display_data"
    }
   ],
   "source": [
    "#Plotting the graph for visualizing the above findings.\n",
    "sns.set(style=\"whitegrid\")\n",
    "ax = sns.barplot(data=unique_df,orient = 'h')"
   ]
  },
  {
   "cell_type": "code",
   "execution_count": 3,
   "metadata": {
    "colab": {
     "base_uri": "https://localhost:8080/",
     "height": 225
    },
    "colab_type": "code",
    "id": "dXHnNbetNjyw",
    "outputId": "cf97d014-8f0f-43bb-b4a7-fe4d0201943b"
   },
   "outputs": [
    {
     "data": {
      "text/html": [
       "<div>\n",
       "<style scoped>\n",
       "    .dataframe tbody tr th:only-of-type {\n",
       "        vertical-align: middle;\n",
       "    }\n",
       "\n",
       "    .dataframe tbody tr th {\n",
       "        vertical-align: top;\n",
       "    }\n",
       "\n",
       "    .dataframe thead th {\n",
       "        text-align: right;\n",
       "    }\n",
       "</style>\n",
       "<table border=\"1\" class=\"dataframe\">\n",
       "  <thead>\n",
       "    <tr style=\"text-align: right;\">\n",
       "      <th></th>\n",
       "      <th>time_created</th>\n",
       "      <th>date_created</th>\n",
       "      <th>up_votes</th>\n",
       "      <th>down_votes</th>\n",
       "      <th>title</th>\n",
       "      <th>over_18</th>\n",
       "      <th>author</th>\n",
       "      <th>category</th>\n",
       "    </tr>\n",
       "  </thead>\n",
       "  <tbody>\n",
       "    <tr>\n",
       "      <th>4179</th>\n",
       "      <td>1208626819</td>\n",
       "      <td>2008-04-19</td>\n",
       "      <td>0</td>\n",
       "      <td>0</td>\n",
       "      <td>Mortal Kombat vs. DC Universe xbox 360 game pr...</td>\n",
       "      <td>False</td>\n",
       "      <td>Aerik</td>\n",
       "      <td>worldnews</td>\n",
       "    </tr>\n",
       "    <tr>\n",
       "      <th>5593</th>\n",
       "      <td>1210005800</td>\n",
       "      <td>2008-05-05</td>\n",
       "      <td>0</td>\n",
       "      <td>0</td>\n",
       "      <td>Independent News Reports  Surge  In Sadr City ...</td>\n",
       "      <td>False</td>\n",
       "      <td>MikaelMN</td>\n",
       "      <td>worldnews</td>\n",
       "    </tr>\n",
       "    <tr>\n",
       "      <th>7567</th>\n",
       "      <td>1211901242</td>\n",
       "      <td>2008-05-27</td>\n",
       "      <td>0</td>\n",
       "      <td>0</td>\n",
       "      <td>Trouble comes in threes, with quakes it is man...</td>\n",
       "      <td>False</td>\n",
       "      <td>BookWormPride</td>\n",
       "      <td>worldnews</td>\n",
       "    </tr>\n",
       "    <tr>\n",
       "      <th>11684</th>\n",
       "      <td>1216100913</td>\n",
       "      <td>2008-07-15</td>\n",
       "      <td>0</td>\n",
       "      <td>0</td>\n",
       "      <td>redditors are often keen to talk about conspir...</td>\n",
       "      <td>False</td>\n",
       "      <td>cthulhufhtagn</td>\n",
       "      <td>worldnews</td>\n",
       "    </tr>\n",
       "    <tr>\n",
       "      <th>11876</th>\n",
       "      <td>1216254290</td>\n",
       "      <td>2008-07-17</td>\n",
       "      <td>0</td>\n",
       "      <td>0</td>\n",
       "      <td>Saudi king opens inter-faith summit</td>\n",
       "      <td>False</td>\n",
       "      <td>cup</td>\n",
       "      <td>worldnews</td>\n",
       "    </tr>\n",
       "    <tr>\n",
       "      <th>56926</th>\n",
       "      <td>1274795505</td>\n",
       "      <td>2010-05-25</td>\n",
       "      <td>0</td>\n",
       "      <td>0</td>\n",
       "      <td>Germany After the EU and the Russian Scenario</td>\n",
       "      <td>False</td>\n",
       "      <td>greenHaired</td>\n",
       "      <td>worldnews</td>\n",
       "    </tr>\n",
       "  </tbody>\n",
       "</table>\n",
       "</div>"
      ],
      "text/plain": [
       "       time_created date_created  up_votes  ...  over_18         author   category\n",
       "4179     1208626819   2008-04-19         0  ...    False          Aerik  worldnews\n",
       "5593     1210005800   2008-05-05         0  ...    False       MikaelMN  worldnews\n",
       "7567     1211901242   2008-05-27         0  ...    False  BookWormPride  worldnews\n",
       "11684    1216100913   2008-07-15         0  ...    False  cthulhufhtagn  worldnews\n",
       "11876    1216254290   2008-07-17         0  ...    False            cup  worldnews\n",
       "56926    1274795505   2010-05-25         0  ...    False    greenHaired  worldnews\n",
       "\n",
       "[6 rows x 8 columns]"
      ]
     },
     "execution_count": 3,
     "metadata": {
      "tags": []
     },
     "output_type": "execute_result"
    }
   ],
   "source": [
    "# Checking for duplicate values\n",
    "df[df.duplicated()]"
   ]
  },
  {
   "cell_type": "code",
   "execution_count": 3,
   "metadata": {
    "colab": {
     "base_uri": "https://localhost:8080/",
     "height": 195
    },
    "colab_type": "code",
    "id": "1hpfdaHJOgwK",
    "outputId": "22f77826-d381-432b-c677-63b57e5a5b11"
   },
   "outputs": [
    {
     "data": {
      "text/html": [
       "<div>\n",
       "<style scoped>\n",
       "    .dataframe tbody tr th:only-of-type {\n",
       "        vertical-align: middle;\n",
       "    }\n",
       "\n",
       "    .dataframe tbody tr th {\n",
       "        vertical-align: top;\n",
       "    }\n",
       "\n",
       "    .dataframe thead th {\n",
       "        text-align: right;\n",
       "    }\n",
       "</style>\n",
       "<table border=\"1\" class=\"dataframe\">\n",
       "  <thead>\n",
       "    <tr style=\"text-align: right;\">\n",
       "      <th></th>\n",
       "      <th>time_created</th>\n",
       "      <th>date_created</th>\n",
       "      <th>up_votes</th>\n",
       "      <th>down_votes</th>\n",
       "      <th>title</th>\n",
       "      <th>over_18</th>\n",
       "      <th>author</th>\n",
       "      <th>category</th>\n",
       "    </tr>\n",
       "  </thead>\n",
       "  <tbody>\n",
       "    <tr>\n",
       "      <th>0</th>\n",
       "      <td>1201232046</td>\n",
       "      <td>2008-01-25</td>\n",
       "      <td>3</td>\n",
       "      <td>0</td>\n",
       "      <td>Scores killed in Pakistan clashes</td>\n",
       "      <td>False</td>\n",
       "      <td>polar</td>\n",
       "      <td>worldnews</td>\n",
       "    </tr>\n",
       "    <tr>\n",
       "      <th>1</th>\n",
       "      <td>1201232075</td>\n",
       "      <td>2008-01-25</td>\n",
       "      <td>2</td>\n",
       "      <td>0</td>\n",
       "      <td>Japan resumes refuelling mission</td>\n",
       "      <td>False</td>\n",
       "      <td>polar</td>\n",
       "      <td>worldnews</td>\n",
       "    </tr>\n",
       "    <tr>\n",
       "      <th>2</th>\n",
       "      <td>1201232523</td>\n",
       "      <td>2008-01-25</td>\n",
       "      <td>3</td>\n",
       "      <td>0</td>\n",
       "      <td>US presses Egypt on Gaza border</td>\n",
       "      <td>False</td>\n",
       "      <td>polar</td>\n",
       "      <td>worldnews</td>\n",
       "    </tr>\n",
       "    <tr>\n",
       "      <th>3</th>\n",
       "      <td>1201233290</td>\n",
       "      <td>2008-01-25</td>\n",
       "      <td>1</td>\n",
       "      <td>0</td>\n",
       "      <td>Jump-start economy: Give health care to all</td>\n",
       "      <td>False</td>\n",
       "      <td>fadi420</td>\n",
       "      <td>worldnews</td>\n",
       "    </tr>\n",
       "    <tr>\n",
       "      <th>4</th>\n",
       "      <td>1201274720</td>\n",
       "      <td>2008-01-25</td>\n",
       "      <td>4</td>\n",
       "      <td>0</td>\n",
       "      <td>Council of Europe bashes EU&amp;UN terror blacklist</td>\n",
       "      <td>False</td>\n",
       "      <td>mhermans</td>\n",
       "      <td>worldnews</td>\n",
       "    </tr>\n",
       "  </tbody>\n",
       "</table>\n",
       "</div>"
      ],
      "text/plain": [
       "   time_created date_created  up_votes  down_votes  \\\n",
       "0    1201232046   2008-01-25         3           0   \n",
       "1    1201232075   2008-01-25         2           0   \n",
       "2    1201232523   2008-01-25         3           0   \n",
       "3    1201233290   2008-01-25         1           0   \n",
       "4    1201274720   2008-01-25         4           0   \n",
       "\n",
       "                                             title  over_18    author  \\\n",
       "0                Scores killed in Pakistan clashes    False     polar   \n",
       "1                 Japan resumes refuelling mission    False     polar   \n",
       "2                  US presses Egypt on Gaza border    False     polar   \n",
       "3     Jump-start economy: Give health care to all     False   fadi420   \n",
       "4  Council of Europe bashes EU&UN terror blacklist    False  mhermans   \n",
       "\n",
       "    category  \n",
       "0  worldnews  \n",
       "1  worldnews  \n",
       "2  worldnews  \n",
       "3  worldnews  \n",
       "4  worldnews  "
      ]
     },
     "execution_count": 3,
     "metadata": {},
     "output_type": "execute_result"
    }
   ],
   "source": [
    "#After dropping the duplicates \n",
    "df.drop_duplicates().head()"
   ]
  },
  {
   "cell_type": "code",
   "execution_count": 4,
   "metadata": {
    "colab": {},
    "colab_type": "code",
    "id": "5ajs7ysARvPd"
   },
   "outputs": [],
   "source": [
    "# Dropping category and down_votes as they have same values.\n",
    "df.drop(columns=[\"down_votes\",\"category\"],axis = 1, inplace = True)"
   ]
  },
  {
   "cell_type": "code",
   "execution_count": 5,
   "metadata": {
    "colab": {},
    "colab_type": "code",
    "id": "3r-11nvMSRa0"
   },
   "outputs": [],
   "source": [
    "# Extracting Year the article was published.\n",
    "df[\"year\"] = pd.to_datetime(df['date_created']).dt.year"
   ]
  },
  {
   "cell_type": "code",
   "execution_count": 7,
   "metadata": {
    "colab": {
     "base_uri": "https://localhost:8080/",
     "height": 195
    },
    "colab_type": "code",
    "id": "4rzdU5smTcC3",
    "outputId": "acc2f74a-3f63-4454-b790-8121205e7183"
   },
   "outputs": [
    {
     "data": {
      "text/html": [
       "<div>\n",
       "<style scoped>\n",
       "    .dataframe tbody tr th:only-of-type {\n",
       "        vertical-align: middle;\n",
       "    }\n",
       "\n",
       "    .dataframe tbody tr th {\n",
       "        vertical-align: top;\n",
       "    }\n",
       "\n",
       "    .dataframe thead th {\n",
       "        text-align: right;\n",
       "    }\n",
       "</style>\n",
       "<table border=\"1\" class=\"dataframe\">\n",
       "  <thead>\n",
       "    <tr style=\"text-align: right;\">\n",
       "      <th></th>\n",
       "      <th>time_created</th>\n",
       "      <th>date_created</th>\n",
       "      <th>up_votes</th>\n",
       "      <th>title</th>\n",
       "      <th>over_18</th>\n",
       "      <th>author</th>\n",
       "      <th>year</th>\n",
       "    </tr>\n",
       "  </thead>\n",
       "  <tbody>\n",
       "    <tr>\n",
       "      <th>0</th>\n",
       "      <td>1201232046</td>\n",
       "      <td>2008-01-25</td>\n",
       "      <td>3</td>\n",
       "      <td>Scores killed in Pakistan clashes</td>\n",
       "      <td>False</td>\n",
       "      <td>polar</td>\n",
       "      <td>2008</td>\n",
       "    </tr>\n",
       "    <tr>\n",
       "      <th>1</th>\n",
       "      <td>1201232075</td>\n",
       "      <td>2008-01-25</td>\n",
       "      <td>2</td>\n",
       "      <td>Japan resumes refuelling mission</td>\n",
       "      <td>False</td>\n",
       "      <td>polar</td>\n",
       "      <td>2008</td>\n",
       "    </tr>\n",
       "    <tr>\n",
       "      <th>2</th>\n",
       "      <td>1201232523</td>\n",
       "      <td>2008-01-25</td>\n",
       "      <td>3</td>\n",
       "      <td>US presses Egypt on Gaza border</td>\n",
       "      <td>False</td>\n",
       "      <td>polar</td>\n",
       "      <td>2008</td>\n",
       "    </tr>\n",
       "    <tr>\n",
       "      <th>3</th>\n",
       "      <td>1201233290</td>\n",
       "      <td>2008-01-25</td>\n",
       "      <td>1</td>\n",
       "      <td>Jump-start economy: Give health care to all</td>\n",
       "      <td>False</td>\n",
       "      <td>fadi420</td>\n",
       "      <td>2008</td>\n",
       "    </tr>\n",
       "    <tr>\n",
       "      <th>4</th>\n",
       "      <td>1201274720</td>\n",
       "      <td>2008-01-25</td>\n",
       "      <td>4</td>\n",
       "      <td>Council of Europe bashes EU&amp;UN terror blacklist</td>\n",
       "      <td>False</td>\n",
       "      <td>mhermans</td>\n",
       "      <td>2008</td>\n",
       "    </tr>\n",
       "  </tbody>\n",
       "</table>\n",
       "</div>"
      ],
      "text/plain": [
       "   time_created date_created  up_votes  ... over_18    author  year\n",
       "0    1201232046   2008-01-25         3  ...   False     polar  2008\n",
       "1    1201232075   2008-01-25         2  ...   False     polar  2008\n",
       "2    1201232523   2008-01-25         3  ...   False     polar  2008\n",
       "3    1201233290   2008-01-25         1  ...   False   fadi420  2008\n",
       "4    1201274720   2008-01-25         4  ...   False  mhermans  2008\n",
       "\n",
       "[5 rows x 7 columns]"
      ]
     },
     "execution_count": 7,
     "metadata": {
      "tags": []
     },
     "output_type": "execute_result"
    }
   ],
   "source": [
    "df.head()"
   ]
  },
  {
   "cell_type": "code",
   "execution_count": 8,
   "metadata": {
    "colab": {
     "base_uri": "https://localhost:8080/",
     "height": 343
    },
    "colab_type": "code",
    "id": "EHzLvb7fT2zV",
    "outputId": "64e10097-07f3-4da8-e472-1e971ec0bc94"
   },
   "outputs": [
    {
     "data": {
      "text/html": [
       "<div>\n",
       "<style scoped>\n",
       "    .dataframe tbody tr th:only-of-type {\n",
       "        vertical-align: middle;\n",
       "    }\n",
       "\n",
       "    .dataframe tbody tr th {\n",
       "        vertical-align: top;\n",
       "    }\n",
       "\n",
       "    .dataframe thead th {\n",
       "        text-align: right;\n",
       "    }\n",
       "</style>\n",
       "<table border=\"1\" class=\"dataframe\">\n",
       "  <thead>\n",
       "    <tr style=\"text-align: right;\">\n",
       "      <th></th>\n",
       "      <th>title</th>\n",
       "    </tr>\n",
       "    <tr>\n",
       "      <th>year</th>\n",
       "      <th></th>\n",
       "    </tr>\n",
       "  </thead>\n",
       "  <tbody>\n",
       "    <tr>\n",
       "      <th>2008</th>\n",
       "      <td>22505</td>\n",
       "    </tr>\n",
       "    <tr>\n",
       "      <th>2009</th>\n",
       "      <td>25115</td>\n",
       "    </tr>\n",
       "    <tr>\n",
       "      <th>2010</th>\n",
       "      <td>23313</td>\n",
       "    </tr>\n",
       "    <tr>\n",
       "      <th>2011</th>\n",
       "      <td>38886</td>\n",
       "    </tr>\n",
       "    <tr>\n",
       "      <th>2012</th>\n",
       "      <td>42643</td>\n",
       "    </tr>\n",
       "    <tr>\n",
       "      <th>2013</th>\n",
       "      <td>88231</td>\n",
       "    </tr>\n",
       "    <tr>\n",
       "      <th>2014</th>\n",
       "      <td>92030</td>\n",
       "    </tr>\n",
       "    <tr>\n",
       "      <th>2015</th>\n",
       "      <td>94621</td>\n",
       "    </tr>\n",
       "    <tr>\n",
       "      <th>2016</th>\n",
       "      <td>81892</td>\n",
       "    </tr>\n",
       "  </tbody>\n",
       "</table>\n",
       "</div>"
      ],
      "text/plain": [
       "      title\n",
       "year       \n",
       "2008  22505\n",
       "2009  25115\n",
       "2010  23313\n",
       "2011  38886\n",
       "2012  42643\n",
       "2013  88231\n",
       "2014  92030\n",
       "2015  94621\n",
       "2016  81892"
      ]
     },
     "execution_count": 8,
     "metadata": {
      "tags": []
     },
     "output_type": "execute_result"
    }
   ],
   "source": [
    "\"\"\"\n",
    "    Number of articles published Each year.\n",
    "    \n",
    "\"\"\"\n",
    "df[[\"title\",\"year\"]].groupby(\"year\").count()"
   ]
  },
  {
   "cell_type": "markdown",
   "metadata": {
    "colab_type": "text",
    "id": "fjP74vbCWd-L"
   },
   "source": [
    "# Text Preprocessing"
   ]
  },
  {
   "cell_type": "code",
   "execution_count": 6,
   "metadata": {
    "colab": {
     "base_uri": "https://localhost:8080/",
     "height": 386
    },
    "colab_type": "code",
    "id": "BivJXItUWhe9",
    "outputId": "d0702dc1-2135-4cdb-a0fa-ecb0d1ff55f6"
   },
   "outputs": [
    {
     "data": {
      "text/plain": [
       "to       204943\n",
       "in       196008\n",
       "the      176203\n",
       "of       170501\n",
       "a         93169\n",
       "and       84224\n",
       "s         78501\n",
       "for       75960\n",
       "on        70010\n",
       "-         40879\n",
       "as        36251\n",
       "by        35947\n",
       "is        35737\n",
       "with      34999\n",
       "The       34700\n",
       "from      31750\n",
       "at        28978\n",
       "has       27895\n",
       "that      27592\n",
       "after     24864\n",
       "dtype: int64"
      ]
     },
     "execution_count": 6,
     "metadata": {},
     "output_type": "execute_result"
    }
   ],
   "source": [
    "#Checking for top 20 most repeated words - Gives insights on data specific stop words.\n",
    "\n",
    "common_words = pd.Series(' '.join(df[\"title\"]).split()).value_counts()\n",
    "common_words[:20]"
   ]
  },
  {
   "cell_type": "code",
   "execution_count": 7,
   "metadata": {
    "colab": {},
    "colab_type": "code",
    "id": "_gVDrmZ5X35U"
   },
   "outputs": [],
   "source": [
    "# Building our Stop words list to be removed. - Take list of inbuilt stopwords and customizing it by added stopwords specific to this documents (From most common words generated in above step)\n",
    "stop_words = set(stopwords.words(\"english\")) \n",
    "\n",
    "#Adding common words of this document to stop_words\n",
    "add_words = [\"to\",\"in\",\"the\",\"of\",\"a\",\"and\",\"s\",\"-\",\"as\",\"by\",\"for\",\"is\",\"with\",\"The\",\"from\",\"at\",\"has\",\"that\",\"after\"]\n",
    "stop_words = stop_words.union(add_words)"
   ]
  },
  {
   "cell_type": "code",
   "execution_count": 8,
   "metadata": {
    "colab": {},
    "colab_type": "code",
    "id": "effe5ryRYobb"
   },
   "outputs": [],
   "source": [
    "#Below is the function to clean the text and prepare it for next phase. \n",
    "from tqdm import tqdm\n",
    "corpus = []\n",
    "def clean_content(data):\n",
    "    cleaned_content = []\n",
    "\n",
    "    for sent in tqdm(data):\n",
    "        \n",
    "        #remove html content\n",
    "        review_content = BeautifulSoup(sent).get_text()\n",
    "            \n",
    "        #remove non-alphabetic characters\n",
    "        review_content = re.sub(\"[^a-zA-Z]\",\" \", review_content)\n",
    "    \n",
    "        #tokenize the sentences\n",
    "        words = word_tokenize(review_content.lower())\n",
    "    \n",
    "        #lemmatize each word to its lemma\n",
    "        lem = WordNetLemmatizer()\n",
    "        lemma_words = [lem.lemmatize(word) for word in words if not word in stop_words] \n",
    "        lemma_words = \" \".join(lemma_words)\n",
    "        cleaned_content.append(lemma_words)\n",
    "        \n",
    "        corpus.append(lemma_words)\n",
    "        \n",
    "        \n",
    "    return(cleaned_content)"
   ]
  },
  {
   "cell_type": "code",
   "execution_count": 9,
   "metadata": {
    "colab": {
     "base_uri": "https://localhost:8080/",
     "height": 336
    },
    "colab_type": "code",
    "id": "4Suvth2hYsjo",
    "outputId": "6e31d9cc-dd08-4e8f-d3ed-3c6038b559b6"
   },
   "outputs": [
    {
     "name": "stderr",
     "output_type": "stream",
     "text": [
      "  0%|▏                                                                        | 1617/509236 [00:01<30:06:18,  4.68it/s]D:\\Anaconda\\lib\\site-packages\\bs4\\__init__.py:335: UserWarning: \"http://mentalmasturbator.com/2008/03/21/democrats-losing-electoral-advantage/\" looks like a URL. Beautiful Soup is not an HTTP client. You should probably use an HTTP client like requests to get the document behind the URL, and feed that document to Beautiful Soup.\n",
      "  ' that document to Beautiful Soup.' % decoded_markup\n",
      "  5%|███▊                                                                     | 26872/509236 [00:10<03:31, 2279.81it/s]D:\\Anaconda\\lib\\site-packages\\bs4\\__init__.py:335: UserWarning: \"http://www.comcast.net/data/fan/html/popup.html?v=1030143489&pl=Comcast/1030032788.xml&launchpoint=Cover&cid=fancover&attr=default_headline&config=/config/common/fan/default.xml\" looks like a URL. Beautiful Soup is not an HTTP client. You should probably use an HTTP client like requests to get the document behind the URL, and feed that document to Beautiful Soup.\n",
      "  ' that document to Beautiful Soup.' % decoded_markup\n",
      "  8%|██████▏                                                                  | 43017/509236 [00:15<02:35, 3002.31it/s]D:\\Anaconda\\lib\\site-packages\\bs4\\__init__.py:335: UserWarning: \"http://www.dawn.com/wps/wcm/connect/dawn-content-library/dawn/news/pakistan/14-bagram-and-the-fine-print-zj-04\" looks like a URL. Beautiful Soup is not an HTTP client. You should probably use an HTTP client like requests to get the document behind the URL, and feed that document to Beautiful Soup.\n",
      "  ' that document to Beautiful Soup.' % decoded_markup\n",
      " 16%|███████████▍                                                             | 79845/509236 [00:28<02:35, 2768.00it/s]D:\\Anaconda\\lib\\site-packages\\bs4\\__init__.py:335: UserWarning: \"http://www.nypost.com/p/news/international/nuclear_power_station_explodes_in_lMAD34kuD0536Cb4hSAFMP\" looks like a URL. Beautiful Soup is not an HTTP client. You should probably use an HTTP client like requests to get the document behind the URL, and feed that document to Beautiful Soup.\n",
      "  ' that document to Beautiful Soup.' % decoded_markup\n",
      " 16%|███████████▌                                                             | 80672/509236 [00:28<02:38, 2708.01it/s]D:\\Anaconda\\lib\\site-packages\\bs4\\__init__.py:335: UserWarning: \"http://www.atimes.com/atimes/Middle_East/MC19Ak04.html\" looks like a URL. Beautiful Soup is not an HTTP client. You should probably use an HTTP client like requests to get the document behind the URL, and feed that document to Beautiful Soup.\n",
      "  ' that document to Beautiful Soup.' % decoded_markup\n",
      " 36%|██████████████████████████                                              | 184265/509236 [01:11<02:22, 2282.99it/s]D:\\Anaconda\\lib\\site-packages\\bs4\\__init__.py:272: UserWarning: \"b'.'\" looks like a filename, not markup. You should probably open this file and pass the filehandle into Beautiful Soup.\n",
      "  ' Beautiful Soup.' % markup)\n",
      " 65%|███████████████████████████████████████████████▏                        | 333400/509236 [02:17<01:02, 2792.63it/s]D:\\Anaconda\\lib\\site-packages\\bs4\\__init__.py:335: UserWarning: \"http://www.independent.co.uk/news/uk/crime/prince-andrew-sex-allegations-documents-about-princes-support-for-jeffrey-epstein-concealed-9959218.html\" looks like a URL. Beautiful Soup is not an HTTP client. You should probably use an HTTP client like requests to get the document behind the URL, and feed that document to Beautiful Soup.\n",
      "  ' that document to Beautiful Soup.' % decoded_markup\n",
      " 93%|██████████████████████████████████████████████████████████████████▉     | 473070/509236 [03:23<00:16, 2181.52it/s]D:\\Anaconda\\lib\\site-packages\\bs4\\__init__.py:335: UserWarning: \"https://www.theguardian.com/sport/2016/jun/28/rio-olympics-safety-security-budgets-cut\" looks like a URL. Beautiful Soup is not an HTTP client. You should probably use an HTTP client like requests to get the document behind the URL, and feed that document to Beautiful Soup.\n",
      "  ' that document to Beautiful Soup.' % decoded_markup\n",
      "100%|████████████████████████████████████████████████████████████████████████| 509236/509236 [03:38<00:00, 2335.07it/s]\n"
     ]
    }
   ],
   "source": [
    "# Calling the clean_content method to clean the titel column of the dataset\n",
    "df[\"cleaned_content\"] = clean_content(df[\"title\"])"
   ]
  },
  {
   "cell_type": "code",
   "execution_count": 10,
   "metadata": {
    "colab": {
     "base_uri": "https://localhost:8080/",
     "height": 195
    },
    "colab_type": "code",
    "id": "8o-dkjH6ZdQ9",
    "outputId": "52daee8f-3749-4ac3-aaf6-bc0b67baf002"
   },
   "outputs": [
    {
     "data": {
      "text/html": [
       "<div>\n",
       "<style scoped>\n",
       "    .dataframe tbody tr th:only-of-type {\n",
       "        vertical-align: middle;\n",
       "    }\n",
       "\n",
       "    .dataframe tbody tr th {\n",
       "        vertical-align: top;\n",
       "    }\n",
       "\n",
       "    .dataframe thead th {\n",
       "        text-align: right;\n",
       "    }\n",
       "</style>\n",
       "<table border=\"1\" class=\"dataframe\">\n",
       "  <thead>\n",
       "    <tr style=\"text-align: right;\">\n",
       "      <th></th>\n",
       "      <th>time_created</th>\n",
       "      <th>date_created</th>\n",
       "      <th>up_votes</th>\n",
       "      <th>title</th>\n",
       "      <th>over_18</th>\n",
       "      <th>author</th>\n",
       "      <th>year</th>\n",
       "      <th>cleaned_content</th>\n",
       "    </tr>\n",
       "  </thead>\n",
       "  <tbody>\n",
       "    <tr>\n",
       "      <th>0</th>\n",
       "      <td>1201232046</td>\n",
       "      <td>2008-01-25</td>\n",
       "      <td>3</td>\n",
       "      <td>Scores killed in Pakistan clashes</td>\n",
       "      <td>False</td>\n",
       "      <td>polar</td>\n",
       "      <td>2008</td>\n",
       "      <td>score killed pakistan clash</td>\n",
       "    </tr>\n",
       "    <tr>\n",
       "      <th>1</th>\n",
       "      <td>1201232075</td>\n",
       "      <td>2008-01-25</td>\n",
       "      <td>2</td>\n",
       "      <td>Japan resumes refuelling mission</td>\n",
       "      <td>False</td>\n",
       "      <td>polar</td>\n",
       "      <td>2008</td>\n",
       "      <td>japan resume refuelling mission</td>\n",
       "    </tr>\n",
       "    <tr>\n",
       "      <th>2</th>\n",
       "      <td>1201232523</td>\n",
       "      <td>2008-01-25</td>\n",
       "      <td>3</td>\n",
       "      <td>US presses Egypt on Gaza border</td>\n",
       "      <td>False</td>\n",
       "      <td>polar</td>\n",
       "      <td>2008</td>\n",
       "      <td>u press egypt gaza border</td>\n",
       "    </tr>\n",
       "    <tr>\n",
       "      <th>3</th>\n",
       "      <td>1201233290</td>\n",
       "      <td>2008-01-25</td>\n",
       "      <td>1</td>\n",
       "      <td>Jump-start economy: Give health care to all</td>\n",
       "      <td>False</td>\n",
       "      <td>fadi420</td>\n",
       "      <td>2008</td>\n",
       "      <td>jump start economy give health care</td>\n",
       "    </tr>\n",
       "    <tr>\n",
       "      <th>4</th>\n",
       "      <td>1201274720</td>\n",
       "      <td>2008-01-25</td>\n",
       "      <td>4</td>\n",
       "      <td>Council of Europe bashes EU&amp;UN terror blacklist</td>\n",
       "      <td>False</td>\n",
       "      <td>mhermans</td>\n",
       "      <td>2008</td>\n",
       "      <td>council europe bash eu un terror blacklist</td>\n",
       "    </tr>\n",
       "  </tbody>\n",
       "</table>\n",
       "</div>"
      ],
      "text/plain": [
       "   time_created date_created  up_votes  \\\n",
       "0    1201232046   2008-01-25         3   \n",
       "1    1201232075   2008-01-25         2   \n",
       "2    1201232523   2008-01-25         3   \n",
       "3    1201233290   2008-01-25         1   \n",
       "4    1201274720   2008-01-25         4   \n",
       "\n",
       "                                             title  over_18    author  year  \\\n",
       "0                Scores killed in Pakistan clashes    False     polar  2008   \n",
       "1                 Japan resumes refuelling mission    False     polar  2008   \n",
       "2                  US presses Egypt on Gaza border    False     polar  2008   \n",
       "3     Jump-start economy: Give health care to all     False   fadi420  2008   \n",
       "4  Council of Europe bashes EU&UN terror blacklist    False  mhermans  2008   \n",
       "\n",
       "                              cleaned_content  \n",
       "0                 score killed pakistan clash  \n",
       "1             japan resume refuelling mission  \n",
       "2                   u press egypt gaza border  \n",
       "3         jump start economy give health care  \n",
       "4  council europe bash eu un terror blacklist  "
      ]
     },
     "execution_count": 10,
     "metadata": {},
     "output_type": "execute_result"
    }
   ],
   "source": [
    "df.head()"
   ]
  },
  {
   "cell_type": "markdown",
   "metadata": {
    "colab_type": "text",
    "id": "ban9yWd4b_0H"
   },
   "source": [
    "# Data Exploration"
   ]
  },
  {
   "cell_type": "code",
   "execution_count": 15,
   "metadata": {
    "colab": {
     "base_uri": "https://localhost:8080/",
     "height": 216
    },
    "colab_type": "code",
    "id": "2xznDNppcDCA",
    "outputId": "832633e4-1ebf-444b-d3f7-ec90584aa692"
   },
   "outputs": [
    {
     "name": "stdout",
     "output_type": "stream",
     "text": [
      "<wordcloud.wordcloud.WordCloud object at 0x7ff622b8b0b8>\n"
     ]
    },
    {
     "data": {
      "image/png": "[encoded data removed]",
      "text/plain": [
       "<Figure size 432x288 with 1 Axes>"
      ]
     },
     "metadata": {
      "tags": []
     },
     "output_type": "display_data"
    }
   ],
   "source": [
    "#Visualizing the content after pre-processing for most frequently used words.\n",
    "wordcloud = WordCloud(\n",
    "                    background_color = \"white\",\n",
    "                    stopwords = stop_words,\n",
    "                    max_words = 100,\n",
    "                    max_font_size = 50).generate(str(corpus))\n",
    "\n",
    "# Displaying the word cloud\n",
    "print(wordcloud)\n",
    "fig = plt.figure(1)\n",
    "plt.imshow(wordcloud)\n",
    "plt.axis('off')\n",
    "plt.show()\n",
    "fig.savefig(\"word1.png\", dpi=900)"
   ]
  },
  {
   "cell_type": "code",
   "execution_count": 16,
   "metadata": {
    "colab": {
     "base_uri": "https://localhost:8080/",
     "height": 887
    },
    "colab_type": "code",
    "id": "20vNSjfbcXF8",
    "outputId": "7a0f33cd-4e17-4db6-b184-8b991f346cc4"
   },
   "outputs": [
    {
     "data": {
      "text/plain": [
       "[Text(0, 0, 'say'),\n",
       " Text(0, 0, 'china'),\n",
       " Text(0, 0, 'new'),\n",
       " Text(0, 0, 'year'),\n",
       " Text(0, 0, 'attack'),\n",
       " Text(0, 0, 'syria'),\n",
       " Text(0, 0, 'russia'),\n",
       " Text(0, 0, 'world'),\n",
       " Text(0, 0, 'state'),\n",
       " Text(0, 0, 'government'),\n",
       " Text(0, 0, 'police'),\n",
       " Text(0, 0, 'israel'),\n",
       " Text(0, 0, 'iran'),\n",
       " Text(0, 0, 'president'),\n",
       " Text(0, 0, 'killed'),\n",
       " Text(0, 0, 'people'),\n",
       " Text(0, 0, 'war'),\n",
       " Text(0, 0, 'russian'),\n",
       " Text(0, 0, 'country'),\n",
       " Text(0, 0, 'minister')]"
      ]
     },
     "execution_count": 16,
     "metadata": {
      "tags": []
     },
     "output_type": "execute_result"
    },
    {
     "data": {
      "image/png": "[encoded data removed]",
      "text/plain": [
       "<Figure size 936x576 with 1 Axes>"
      ]
     },
     "metadata": {
      "tags": []
     },
     "output_type": "display_data"
    }
   ],
   "source": [
    "#Visualizing the Most frequently occuring words after cleanup process. \n",
    "def get_top_n_words(corpus, n=None):\n",
    "    vec = CountVectorizer().fit(corpus)\n",
    "    bag_of_words = vec.transform(corpus)\n",
    "    sum_words = bag_of_words.sum(axis=0) \n",
    "    words_freq = [(word, sum_words[0, idx]) for word, idx in      \n",
    "                   vec.vocabulary_.items()]\n",
    "    words_freq =sorted(words_freq, key = lambda x: x[1], \n",
    "                       reverse=True)\n",
    "    return words_freq[:n]\n",
    "\n",
    "#Convert most freq words to dataframe for plotting bar plot\n",
    "top_words = get_top_n_words(corpus, n=20)\n",
    "top_df = pd.DataFrame(top_words)\n",
    "top_df.columns=[\"Word\", \"Freq\"]\n",
    "\n",
    "#Barplot of most freq words\n",
    "sns.set(rc={'figure.figsize':(13,8)})\n",
    "g = sns.barplot(x=\"Word\", y=\"Freq\", data=top_df)\n",
    "g.set_xticklabels(g.get_xticklabels(), rotation=30)"
   ]
  },
  {
   "cell_type": "code",
   "execution_count": 41,
   "metadata": {
    "colab": {},
    "colab_type": "code",
    "id": "TLi8bhRrLm5g"
   },
   "outputs": [],
   "source": [
    "# Defining a count vectorizer \n",
    "cv = CountVectorizer(max_df = 0.95, min_df = 2, stop_words= stop_words)\n",
    "dtm = cv.fit_transform(df[\"cleaned_content\"])"
   ]
  },
  {
   "cell_type": "markdown",
   "metadata": {
    "colab_type": "text",
    "id": "e-lmnil2KU2r"
   },
   "source": [
    "# Topic Modelling using LDA\n",
    "\n",
    "\n",
    "    Since the news is categorised into only worldnews, i will further split it into 5 more topics using LDA."
   ]
  },
  {
   "cell_type": "code",
   "execution_count": 44,
   "metadata": {
    "colab": {},
    "colab_type": "code",
    "id": "wpTdqDOXWJes"
   },
   "outputs": [],
   "source": [
    "LDA5 = LatentDirichletAllocation(n_components=5,random_state=42)"
   ]
  },
  {
   "cell_type": "code",
   "execution_count": 45,
   "metadata": {
    "colab": {
     "base_uri": "https://localhost:8080/",
     "height": 140
    },
    "colab_type": "code",
    "id": "PMYCVZPNkQBE",
    "outputId": "3c138d45-9b11-4bbd-a5e0-6c14cbffcae5"
   },
   "outputs": [
    {
     "data": {
      "text/plain": [
       "LatentDirichletAllocation(batch_size=128, doc_topic_prior=None,\n",
       "                          evaluate_every=-1, learning_decay=0.7,\n",
       "                          learning_method='batch', learning_offset=10.0,\n",
       "                          max_doc_update_iter=100, max_iter=10,\n",
       "                          mean_change_tol=0.001, n_components=5, n_jobs=None,\n",
       "                          perp_tol=0.1, random_state=42, topic_word_prior=None,\n",
       "                          total_samples=1000000.0, verbose=0)"
      ]
     },
     "execution_count": 45,
     "metadata": {},
     "output_type": "execute_result"
    }
   ],
   "source": [
    "LDA5.fit(dtm)"
   ]
  },
  {
   "cell_type": "code",
   "execution_count": 46,
   "metadata": {},
   "outputs": [
    {
     "data": {
      "text/plain": [
       "['LDA5.joblib']"
      ]
     },
     "execution_count": 46,
     "metadata": {},
     "output_type": "execute_result"
    }
   ],
   "source": [
    "#dump(LDA5,\"LDA5.joblib\")"
   ]
  },
  {
   "cell_type": "code",
   "execution_count": 47,
   "metadata": {
    "colab": {
     "base_uri": "https://localhost:8080/",
     "height": 369
    },
    "colab_type": "code",
    "id": "HGrn-wdokYPC",
    "outputId": "7eaf3442-4baa-4e71-8d83-f52dccdf3636"
   },
   "outputs": [
    {
     "name": "stdout",
     "output_type": "stream",
     "text": [
      "THE TOP 15 WORDS FOR TOPIC #0\n",
      "['court', 'man', 'muslim', 'egypt', 'death', 'gaza', 'israeli', 'year', 'palestinian', 'right', 'israel', 'woman', 'protest', 'news', 'police']\n",
      "\n",
      "\n",
      "THE TOP 15 WORDS FOR TOPIC #1\n",
      "['german', 'internet', 'law', 'european', 'korean', 'china', 'bank', 'eu', 'uk', 'minister', 'government', 'say', 'new', 'north', 'korea']\n",
      "\n",
      "\n",
      "THE TOP 15 WORDS FOR TOPIC #2\n",
      "['talk', 'obama', 'un', 'election', 'military', 'leader', 'israel', 'ukraine', 'state', 'nuclear', 'war', 'say', 'president', 'russia', 'iran']\n",
      "\n",
      "\n",
      "THE TOP 15 WORDS FOR TOPIC #3\n",
      "['islamic', 'russian', 'state', 'strike', 'al', 'rebel', 'iraq', 'say', 'kill', 'isi', 'force', 'syrian', 'syria', 'killed', 'attack']\n",
      "\n",
      "\n",
      "THE TOP 15 WORDS FOR TOPIC #4\n",
      "['south', 'one', 'oil', 'found', 'first', 'sea', 'india', 'chinese', 'people', 'million', 'new', 'japan', 'year', 'world', 'china']\n",
      "\n",
      "\n"
     ]
    }
   ],
   "source": [
    "# Displaying top 15 words of all the topics\n",
    "for index,topic in enumerate(LDA5.components_):\n",
    "    print(f'THE TOP 15 WORDS FOR TOPIC #{index}')\n",
    "    print([cv.get_feature_names()[i] for i in topic.argsort()[-15:]])\n",
    "    print('\\n')"
   ]
  },
  {
   "cell_type": "code",
   "execution_count": 49,
   "metadata": {
    "colab": {
     "base_uri": "https://localhost:8080/",
     "height": 34
    },
    "colab_type": "code",
    "id": "vGgAiXeh387k",
    "outputId": "56e551fe-567a-43f4-a178-bbfd9b990456"
   },
   "outputs": [
    {
     "data": {
      "text/plain": [
       "(509236, 5)"
      ]
     },
     "execution_count": 49,
     "metadata": {},
     "output_type": "execute_result"
    }
   ],
   "source": [
    "topic_result = LDA5.transform(dtm)\n",
    "topic_result.shape"
   ]
  },
  {
   "cell_type": "code",
   "execution_count": 50,
   "metadata": {
    "colab": {},
    "colab_type": "code",
    "id": "7iAxPUd86IPQ"
   },
   "outputs": [],
   "source": [
    "# Assigning the topic to the articles in the dataframe\n",
    "df[\"topic\"] = topic_result.argmax(axis=1)"
   ]
  },
  {
   "cell_type": "code",
   "execution_count": 51,
   "metadata": {
    "colab": {
     "base_uri": "https://localhost:8080/",
     "height": 212
    },
    "colab_type": "code",
    "id": "-_gk2BPJ6qFf",
    "outputId": "4ca723f9-1f25-4bda-8333-7506911eb192"
   },
   "outputs": [
    {
     "data": {
      "text/html": [
       "<div>\n",
       "<style scoped>\n",
       "    .dataframe tbody tr th:only-of-type {\n",
       "        vertical-align: middle;\n",
       "    }\n",
       "\n",
       "    .dataframe tbody tr th {\n",
       "        vertical-align: top;\n",
       "    }\n",
       "\n",
       "    .dataframe thead th {\n",
       "        text-align: right;\n",
       "    }\n",
       "</style>\n",
       "<table border=\"1\" class=\"dataframe\">\n",
       "  <thead>\n",
       "    <tr style=\"text-align: right;\">\n",
       "      <th></th>\n",
       "      <th>time_created</th>\n",
       "      <th>date_created</th>\n",
       "      <th>up_votes</th>\n",
       "      <th>title</th>\n",
       "      <th>over_18</th>\n",
       "      <th>author</th>\n",
       "      <th>year</th>\n",
       "      <th>cleaned_content</th>\n",
       "      <th>sentimental_scores</th>\n",
       "      <th>compound_sentiment</th>\n",
       "      <th>sentiment</th>\n",
       "      <th>topic</th>\n",
       "    </tr>\n",
       "  </thead>\n",
       "  <tbody>\n",
       "    <tr>\n",
       "      <th>0</th>\n",
       "      <td>1201232046</td>\n",
       "      <td>2008-01-25</td>\n",
       "      <td>3</td>\n",
       "      <td>Scores killed in Pakistan clashes</td>\n",
       "      <td>False</td>\n",
       "      <td>polar</td>\n",
       "      <td>2008</td>\n",
       "      <td>score killed pakistan clash</td>\n",
       "      <td>{'neg': 0.529, 'neu': 0.471, 'pos': 0.0, 'comp...</td>\n",
       "      <td>-0.6705</td>\n",
       "      <td>0</td>\n",
       "      <td>3</td>\n",
       "    </tr>\n",
       "    <tr>\n",
       "      <th>1</th>\n",
       "      <td>1201232075</td>\n",
       "      <td>2008-01-25</td>\n",
       "      <td>2</td>\n",
       "      <td>Japan resumes refuelling mission</td>\n",
       "      <td>False</td>\n",
       "      <td>polar</td>\n",
       "      <td>2008</td>\n",
       "      <td>japan resume refuelling mission</td>\n",
       "      <td>{'neg': 0.0, 'neu': 1.0, 'pos': 0.0, 'compound...</td>\n",
       "      <td>0.0000</td>\n",
       "      <td>1</td>\n",
       "      <td>4</td>\n",
       "    </tr>\n",
       "    <tr>\n",
       "      <th>2</th>\n",
       "      <td>1201232523</td>\n",
       "      <td>2008-01-25</td>\n",
       "      <td>3</td>\n",
       "      <td>US presses Egypt on Gaza border</td>\n",
       "      <td>False</td>\n",
       "      <td>polar</td>\n",
       "      <td>2008</td>\n",
       "      <td>u press egypt gaza border</td>\n",
       "      <td>{'neg': 0.0, 'neu': 1.0, 'pos': 0.0, 'compound...</td>\n",
       "      <td>0.0000</td>\n",
       "      <td>1</td>\n",
       "      <td>0</td>\n",
       "    </tr>\n",
       "    <tr>\n",
       "      <th>3</th>\n",
       "      <td>1201233290</td>\n",
       "      <td>2008-01-25</td>\n",
       "      <td>1</td>\n",
       "      <td>Jump-start economy: Give health care to all</td>\n",
       "      <td>False</td>\n",
       "      <td>fadi420</td>\n",
       "      <td>2008</td>\n",
       "      <td>jump start economy give health care</td>\n",
       "      <td>{'neg': 0.0, 'neu': 0.652, 'pos': 0.348, 'comp...</td>\n",
       "      <td>0.4939</td>\n",
       "      <td>1</td>\n",
       "      <td>4</td>\n",
       "    </tr>\n",
       "    <tr>\n",
       "      <th>4</th>\n",
       "      <td>1201274720</td>\n",
       "      <td>2008-01-25</td>\n",
       "      <td>4</td>\n",
       "      <td>Council of Europe bashes EU&amp;UN terror blacklist</td>\n",
       "      <td>False</td>\n",
       "      <td>mhermans</td>\n",
       "      <td>2008</td>\n",
       "      <td>council europe bash eu un terror blacklist</td>\n",
       "      <td>{'neg': 0.362, 'neu': 0.638, 'pos': 0.0, 'comp...</td>\n",
       "      <td>-0.5267</td>\n",
       "      <td>0</td>\n",
       "      <td>2</td>\n",
       "    </tr>\n",
       "  </tbody>\n",
       "</table>\n",
       "</div>"
      ],
      "text/plain": [
       "   time_created date_created  up_votes  \\\n",
       "0    1201232046   2008-01-25         3   \n",
       "1    1201232075   2008-01-25         2   \n",
       "2    1201232523   2008-01-25         3   \n",
       "3    1201233290   2008-01-25         1   \n",
       "4    1201274720   2008-01-25         4   \n",
       "\n",
       "                                             title  over_18    author  year  \\\n",
       "0                Scores killed in Pakistan clashes    False     polar  2008   \n",
       "1                 Japan resumes refuelling mission    False     polar  2008   \n",
       "2                  US presses Egypt on Gaza border    False     polar  2008   \n",
       "3     Jump-start economy: Give health care to all     False   fadi420  2008   \n",
       "4  Council of Europe bashes EU&UN terror blacklist    False  mhermans  2008   \n",
       "\n",
       "                              cleaned_content  \\\n",
       "0                 score killed pakistan clash   \n",
       "1             japan resume refuelling mission   \n",
       "2                   u press egypt gaza border   \n",
       "3         jump start economy give health care   \n",
       "4  council europe bash eu un terror blacklist   \n",
       "\n",
       "                                  sentimental_scores  compound_sentiment  \\\n",
       "0  {'neg': 0.529, 'neu': 0.471, 'pos': 0.0, 'comp...             -0.6705   \n",
       "1  {'neg': 0.0, 'neu': 1.0, 'pos': 0.0, 'compound...              0.0000   \n",
       "2  {'neg': 0.0, 'neu': 1.0, 'pos': 0.0, 'compound...              0.0000   \n",
       "3  {'neg': 0.0, 'neu': 0.652, 'pos': 0.348, 'comp...              0.4939   \n",
       "4  {'neg': 0.362, 'neu': 0.638, 'pos': 0.0, 'comp...             -0.5267   \n",
       "\n",
       "   sentiment  topic  \n",
       "0          0      3  \n",
       "1          1      4  \n",
       "2          1      0  \n",
       "3          1      4  \n",
       "4          0      2  "
      ]
     },
     "execution_count": 51,
     "metadata": {},
     "output_type": "execute_result"
    }
   ],
   "source": [
    "df.head()"
   ]
  },
  {
   "cell_type": "markdown",
   "metadata": {
    "colab_type": "text",
    "id": "9XkgDrIoZmZc"
   },
   "source": [
    "# Sentimental Analysis"
   ]
  },
  {
   "cell_type": "markdown",
   "metadata": {},
   "source": [
    "Performed Sentiment Analysis to classify the sentence into Positive sentence or negative sentence.\n",
    "\n",
    "Input: \n",
    "    \n",
    "    Title column of the dataFrame. \n",
    "    \n",
    "Output:\n",
    "    \n",
    "    Sentimental score report card with percentage of negative, positive, neutral and compound sentiment.\n",
    "    Using this score report card, classified the sentence into possitive or negative sentence.\n",
    "    0 - Negative Sentence\n",
    "    1 - Positive Sentence"
   ]
  },
  {
   "cell_type": "code",
   "execution_count": 11,
   "metadata": {
    "colab": {},
    "colab_type": "code",
    "id": "Uf2h33kW6r2m"
   },
   "outputs": [],
   "source": [
    "# Initializing the sentimental Intenity Analyzer\n",
    "sid = SentimentIntensityAnalyzer()"
   ]
  },
  {
   "cell_type": "code",
   "execution_count": 12,
   "metadata": {
    "colab": {
     "base_uri": "https://localhost:8080/",
     "height": 105
    },
    "colab_type": "code",
    "id": "mUil5FBmZ9u8",
    "outputId": "c04ed904-cdf2-4d18-e9b2-0582f6d2c480"
   },
   "outputs": [
    {
     "name": "stdout",
     "output_type": "stream",
     "text": [
      "{'neg': 0.529, 'neu': 0.471, 'pos': 0.0, 'compound': -0.6705}\n",
      "{'neg': 0.0, 'neu': 1.0, 'pos': 0.0, 'compound': 0.0}\n",
      "{'neg': 0.0, 'neu': 1.0, 'pos': 0.0, 'compound': 0.0}\n",
      "{'neg': 0.0, 'neu': 0.652, 'pos': 0.348, 'compound': 0.4939}\n",
      "{'neg': 0.362, 'neu': 0.638, 'pos': 0.0, 'compound': -0.5267}\n"
     ]
    }
   ],
   "source": [
    "# checking the polarity scores for first 5 articles\n",
    "for i in range(0,5):\n",
    "  print(sid.polarity_scores(df.loc[i][\"title\"]))"
   ]
  },
  {
   "cell_type": "code",
   "execution_count": 13,
   "metadata": {
    "colab": {},
    "colab_type": "code",
    "id": "F7L5poyipfp7"
   },
   "outputs": [],
   "source": [
    "#Appending sentimental scores to the data frame\n",
    "df[\"sentimental_scores\"] = df[\"title\"].apply(lambda x: sid.polarity_scores(x))"
   ]
  },
  {
   "cell_type": "code",
   "execution_count": 14,
   "metadata": {
    "colab": {},
    "colab_type": "code",
    "id": "YPRH8tY7q_sY"
   },
   "outputs": [],
   "source": [
    "#Extracting the compount score.\n",
    "df[\"compound_sentiment\"] = df[\"sentimental_scores\"].apply(lambda score_dict: score_dict[\"compound\"]) "
   ]
  },
  {
   "cell_type": "code",
   "execution_count": 15,
   "metadata": {
    "colab": {
     "base_uri": "https://localhost:8080/",
     "height": 397
    },
    "colab_type": "code",
    "id": "KV4SL7vtriEN",
    "outputId": "9cd9e684-eb46-477f-d4aa-f35a854df482"
   },
   "outputs": [
    {
     "data": {
      "text/html": [
       "<div>\n",
       "<style scoped>\n",
       "    .dataframe tbody tr th:only-of-type {\n",
       "        vertical-align: middle;\n",
       "    }\n",
       "\n",
       "    .dataframe tbody tr th {\n",
       "        vertical-align: top;\n",
       "    }\n",
       "\n",
       "    .dataframe thead th {\n",
       "        text-align: right;\n",
       "    }\n",
       "</style>\n",
       "<table border=\"1\" class=\"dataframe\">\n",
       "  <thead>\n",
       "    <tr style=\"text-align: right;\">\n",
       "      <th></th>\n",
       "      <th>time_created</th>\n",
       "      <th>date_created</th>\n",
       "      <th>up_votes</th>\n",
       "      <th>title</th>\n",
       "      <th>over_18</th>\n",
       "      <th>author</th>\n",
       "      <th>year</th>\n",
       "      <th>cleaned_content</th>\n",
       "      <th>sentimental_scores</th>\n",
       "      <th>compound_sentiment</th>\n",
       "    </tr>\n",
       "  </thead>\n",
       "  <tbody>\n",
       "    <tr>\n",
       "      <th>0</th>\n",
       "      <td>1201232046</td>\n",
       "      <td>2008-01-25</td>\n",
       "      <td>3</td>\n",
       "      <td>Scores killed in Pakistan clashes</td>\n",
       "      <td>False</td>\n",
       "      <td>polar</td>\n",
       "      <td>2008</td>\n",
       "      <td>score killed pakistan clash</td>\n",
       "      <td>{'neg': 0.529, 'neu': 0.471, 'pos': 0.0, 'comp...</td>\n",
       "      <td>-0.6705</td>\n",
       "    </tr>\n",
       "    <tr>\n",
       "      <th>1</th>\n",
       "      <td>1201232075</td>\n",
       "      <td>2008-01-25</td>\n",
       "      <td>2</td>\n",
       "      <td>Japan resumes refuelling mission</td>\n",
       "      <td>False</td>\n",
       "      <td>polar</td>\n",
       "      <td>2008</td>\n",
       "      <td>japan resume refuelling mission</td>\n",
       "      <td>{'neg': 0.0, 'neu': 1.0, 'pos': 0.0, 'compound...</td>\n",
       "      <td>0.0000</td>\n",
       "    </tr>\n",
       "    <tr>\n",
       "      <th>2</th>\n",
       "      <td>1201232523</td>\n",
       "      <td>2008-01-25</td>\n",
       "      <td>3</td>\n",
       "      <td>US presses Egypt on Gaza border</td>\n",
       "      <td>False</td>\n",
       "      <td>polar</td>\n",
       "      <td>2008</td>\n",
       "      <td>u press egypt gaza border</td>\n",
       "      <td>{'neg': 0.0, 'neu': 1.0, 'pos': 0.0, 'compound...</td>\n",
       "      <td>0.0000</td>\n",
       "    </tr>\n",
       "    <tr>\n",
       "      <th>3</th>\n",
       "      <td>1201233290</td>\n",
       "      <td>2008-01-25</td>\n",
       "      <td>1</td>\n",
       "      <td>Jump-start economy: Give health care to all</td>\n",
       "      <td>False</td>\n",
       "      <td>fadi420</td>\n",
       "      <td>2008</td>\n",
       "      <td>jump start economy give health care</td>\n",
       "      <td>{'neg': 0.0, 'neu': 0.652, 'pos': 0.348, 'comp...</td>\n",
       "      <td>0.4939</td>\n",
       "    </tr>\n",
       "    <tr>\n",
       "      <th>4</th>\n",
       "      <td>1201274720</td>\n",
       "      <td>2008-01-25</td>\n",
       "      <td>4</td>\n",
       "      <td>Council of Europe bashes EU&amp;UN terror blacklist</td>\n",
       "      <td>False</td>\n",
       "      <td>mhermans</td>\n",
       "      <td>2008</td>\n",
       "      <td>council europe bash eu un terror blacklist</td>\n",
       "      <td>{'neg': 0.362, 'neu': 0.638, 'pos': 0.0, 'comp...</td>\n",
       "      <td>-0.5267</td>\n",
       "    </tr>\n",
       "  </tbody>\n",
       "</table>\n",
       "</div>"
      ],
      "text/plain": [
       "   time_created date_created  up_votes  \\\n",
       "0    1201232046   2008-01-25         3   \n",
       "1    1201232075   2008-01-25         2   \n",
       "2    1201232523   2008-01-25         3   \n",
       "3    1201233290   2008-01-25         1   \n",
       "4    1201274720   2008-01-25         4   \n",
       "\n",
       "                                             title  over_18    author  year  \\\n",
       "0                Scores killed in Pakistan clashes    False     polar  2008   \n",
       "1                 Japan resumes refuelling mission    False     polar  2008   \n",
       "2                  US presses Egypt on Gaza border    False     polar  2008   \n",
       "3     Jump-start economy: Give health care to all     False   fadi420  2008   \n",
       "4  Council of Europe bashes EU&UN terror blacklist    False  mhermans  2008   \n",
       "\n",
       "                              cleaned_content  \\\n",
       "0                 score killed pakistan clash   \n",
       "1             japan resume refuelling mission   \n",
       "2                   u press egypt gaza border   \n",
       "3         jump start economy give health care   \n",
       "4  council europe bash eu un terror blacklist   \n",
       "\n",
       "                                  sentimental_scores  compound_sentiment  \n",
       "0  {'neg': 0.529, 'neu': 0.471, 'pos': 0.0, 'comp...             -0.6705  \n",
       "1  {'neg': 0.0, 'neu': 1.0, 'pos': 0.0, 'compound...              0.0000  \n",
       "2  {'neg': 0.0, 'neu': 1.0, 'pos': 0.0, 'compound...              0.0000  \n",
       "3  {'neg': 0.0, 'neu': 0.652, 'pos': 0.348, 'comp...              0.4939  \n",
       "4  {'neg': 0.362, 'neu': 0.638, 'pos': 0.0, 'comp...             -0.5267  "
      ]
     },
     "execution_count": 15,
     "metadata": {},
     "output_type": "execute_result"
    }
   ],
   "source": [
    "df.head()"
   ]
  },
  {
   "cell_type": "code",
   "execution_count": 16,
   "metadata": {
    "colab": {
     "base_uri": "https://localhost:8080/",
     "height": 551
    },
    "colab_type": "code",
    "id": "c5pvBgeErjzk",
    "outputId": "a86a7e0e-a8d1-47f6-c039-71bc585a3db2"
   },
   "outputs": [
    {
     "data": {
      "text/html": [
       "<div>\n",
       "<style scoped>\n",
       "    .dataframe tbody tr th:only-of-type {\n",
       "        vertical-align: middle;\n",
       "    }\n",
       "\n",
       "    .dataframe tbody tr th {\n",
       "        vertical-align: top;\n",
       "    }\n",
       "\n",
       "    .dataframe thead th {\n",
       "        text-align: right;\n",
       "    }\n",
       "</style>\n",
       "<table border=\"1\" class=\"dataframe\">\n",
       "  <thead>\n",
       "    <tr style=\"text-align: right;\">\n",
       "      <th></th>\n",
       "      <th>time_created</th>\n",
       "      <th>date_created</th>\n",
       "      <th>up_votes</th>\n",
       "      <th>title</th>\n",
       "      <th>over_18</th>\n",
       "      <th>author</th>\n",
       "      <th>year</th>\n",
       "      <th>cleaned_content</th>\n",
       "      <th>sentimental_scores</th>\n",
       "      <th>compound_sentiment</th>\n",
       "      <th>sentiment</th>\n",
       "    </tr>\n",
       "  </thead>\n",
       "  <tbody>\n",
       "    <tr>\n",
       "      <th>0</th>\n",
       "      <td>1201232046</td>\n",
       "      <td>2008-01-25</td>\n",
       "      <td>3</td>\n",
       "      <td>Scores killed in Pakistan clashes</td>\n",
       "      <td>False</td>\n",
       "      <td>polar</td>\n",
       "      <td>2008</td>\n",
       "      <td>score killed pakistan clash</td>\n",
       "      <td>{'neg': 0.529, 'neu': 0.471, 'pos': 0.0, 'comp...</td>\n",
       "      <td>-0.6705</td>\n",
       "      <td>0</td>\n",
       "    </tr>\n",
       "    <tr>\n",
       "      <th>1</th>\n",
       "      <td>1201232075</td>\n",
       "      <td>2008-01-25</td>\n",
       "      <td>2</td>\n",
       "      <td>Japan resumes refuelling mission</td>\n",
       "      <td>False</td>\n",
       "      <td>polar</td>\n",
       "      <td>2008</td>\n",
       "      <td>japan resume refuelling mission</td>\n",
       "      <td>{'neg': 0.0, 'neu': 1.0, 'pos': 0.0, 'compound...</td>\n",
       "      <td>0.0000</td>\n",
       "      <td>1</td>\n",
       "    </tr>\n",
       "    <tr>\n",
       "      <th>2</th>\n",
       "      <td>1201232523</td>\n",
       "      <td>2008-01-25</td>\n",
       "      <td>3</td>\n",
       "      <td>US presses Egypt on Gaza border</td>\n",
       "      <td>False</td>\n",
       "      <td>polar</td>\n",
       "      <td>2008</td>\n",
       "      <td>u press egypt gaza border</td>\n",
       "      <td>{'neg': 0.0, 'neu': 1.0, 'pos': 0.0, 'compound...</td>\n",
       "      <td>0.0000</td>\n",
       "      <td>1</td>\n",
       "    </tr>\n",
       "    <tr>\n",
       "      <th>3</th>\n",
       "      <td>1201233290</td>\n",
       "      <td>2008-01-25</td>\n",
       "      <td>1</td>\n",
       "      <td>Jump-start economy: Give health care to all</td>\n",
       "      <td>False</td>\n",
       "      <td>fadi420</td>\n",
       "      <td>2008</td>\n",
       "      <td>jump start economy give health care</td>\n",
       "      <td>{'neg': 0.0, 'neu': 0.652, 'pos': 0.348, 'comp...</td>\n",
       "      <td>0.4939</td>\n",
       "      <td>1</td>\n",
       "    </tr>\n",
       "    <tr>\n",
       "      <th>4</th>\n",
       "      <td>1201274720</td>\n",
       "      <td>2008-01-25</td>\n",
       "      <td>4</td>\n",
       "      <td>Council of Europe bashes EU&amp;UN terror blacklist</td>\n",
       "      <td>False</td>\n",
       "      <td>mhermans</td>\n",
       "      <td>2008</td>\n",
       "      <td>council europe bash eu un terror blacklist</td>\n",
       "      <td>{'neg': 0.362, 'neu': 0.638, 'pos': 0.0, 'comp...</td>\n",
       "      <td>-0.5267</td>\n",
       "      <td>0</td>\n",
       "    </tr>\n",
       "  </tbody>\n",
       "</table>\n",
       "</div>"
      ],
      "text/plain": [
       "   time_created date_created  up_votes  \\\n",
       "0    1201232046   2008-01-25         3   \n",
       "1    1201232075   2008-01-25         2   \n",
       "2    1201232523   2008-01-25         3   \n",
       "3    1201233290   2008-01-25         1   \n",
       "4    1201274720   2008-01-25         4   \n",
       "\n",
       "                                             title  over_18    author  year  \\\n",
       "0                Scores killed in Pakistan clashes    False     polar  2008   \n",
       "1                 Japan resumes refuelling mission    False     polar  2008   \n",
       "2                  US presses Egypt on Gaza border    False     polar  2008   \n",
       "3     Jump-start economy: Give health care to all     False   fadi420  2008   \n",
       "4  Council of Europe bashes EU&UN terror blacklist    False  mhermans  2008   \n",
       "\n",
       "                              cleaned_content  \\\n",
       "0                 score killed pakistan clash   \n",
       "1             japan resume refuelling mission   \n",
       "2                   u press egypt gaza border   \n",
       "3         jump start economy give health care   \n",
       "4  council europe bash eu un terror blacklist   \n",
       "\n",
       "                                  sentimental_scores  compound_sentiment  \\\n",
       "0  {'neg': 0.529, 'neu': 0.471, 'pos': 0.0, 'comp...             -0.6705   \n",
       "1  {'neg': 0.0, 'neu': 1.0, 'pos': 0.0, 'compound...              0.0000   \n",
       "2  {'neg': 0.0, 'neu': 1.0, 'pos': 0.0, 'compound...              0.0000   \n",
       "3  {'neg': 0.0, 'neu': 0.652, 'pos': 0.348, 'comp...              0.4939   \n",
       "4  {'neg': 0.362, 'neu': 0.638, 'pos': 0.0, 'comp...             -0.5267   \n",
       "\n",
       "   sentiment  \n",
       "0          0  \n",
       "1          1  \n",
       "2          1  \n",
       "3          1  \n",
       "4          0  "
      ]
     },
     "execution_count": 16,
     "metadata": {},
     "output_type": "execute_result"
    }
   ],
   "source": [
    "# Adding sentiment: where 0 - negative sentiment and 1 - positive sentiment\n",
    "df[\"sentiment\"] = df[\"compound_sentiment\"].apply(lambda x: 1 if x >= 0 else 0)\n",
    "df.head()"
   ]
  },
  {
   "cell_type": "markdown",
   "metadata": {
    "colab": {},
    "colab_type": "code",
    "id": "pkbvQSfky6Zv"
   },
   "source": [
    "# Tf-Idf vectorizing"
   ]
  },
  {
   "cell_type": "code",
   "execution_count": 20,
   "metadata": {
    "colab": {},
    "colab_type": "code",
    "id": "I3hJsRR9y6cz"
   },
   "outputs": [],
   "source": [
    "\"\"\"\n",
    "    The text data before feeding to the Input of the machine learning model should be converted to numerical format\n",
    "    as the machine learning model works only on the numerical data.\n",
    "\n",
    "    To achieve this we are converting the text data into vectors using TfIdf vectors.\n",
    "\"\"\"\n",
    "tfidf = TfidfVectorizer()\n",
    "tfidf_matrix = tfidf.fit_transform(df[\"cleaned_content\"])"
   ]
  },
  {
   "cell_type": "code",
   "execution_count": 21,
   "metadata": {},
   "outputs": [
    {
     "data": {
      "text/plain": [
       "(509236, 74580)"
      ]
     },
     "execution_count": 21,
     "metadata": {},
     "output_type": "execute_result"
    }
   ],
   "source": [
    "tfidf_matrix.shape"
   ]
  },
  {
   "cell_type": "code",
   "execution_count": 38,
   "metadata": {},
   "outputs": [
    {
     "data": {
      "text/plain": [
       "['tfidf.joblib']"
      ]
     },
     "execution_count": 38,
     "metadata": {},
     "output_type": "execute_result"
    }
   ],
   "source": [
    "# Taking backup of tfidfvector model.\n",
    "#dump(tfidf,\"tfidf.joblib\")"
   ]
  },
  {
   "cell_type": "markdown",
   "metadata": {
    "colab_type": "text",
    "id": "pFKjtVIsssMO"
   },
   "source": [
    "# Machine Learning Model to predict weather a given sentence has positve or negative sentiment"
   ]
  },
  {
   "cell_type": "markdown",
   "metadata": {},
   "source": [
    "Objective: \n",
    "        Given a Sentence, Try to Predict whether its a positive sentiment or Negative Sentiment.\n",
    "        Trained a Support Vector Classifier model to Take sentence as input and Predict whether its a positive\n",
    "        sentiment or negative sentiment.\n",
    "\n",
    "Input:  \n",
    "        Sentence to check if its a positive sentence or negative sentence. \n",
    "        \n",
    "Output:\n",
    "        0: If its a negative sentiment.\n",
    "        1: If its a Positive sentiment\n"
   ]
  },
  {
   "cell_type": "code",
   "execution_count": 25,
   "metadata": {},
   "outputs": [],
   "source": [
    "\"\"\"\n",
    "Defining Y variable to be sentiments.\n",
    "\n",
    "Performing Train test split to prepare the inputs to feed into Support Vector Classifier model.\n",
    "\n",
    "\"\"\"\n",
    "y = np.array(df[\"sentiment\"])\n",
    "X_train, X_test, y_train, y_test = train_test_split(tfidf_matrix, y, test_size = 0.2, shuffle = True, random_state = 42)"
   ]
  },
  {
   "cell_type": "code",
   "execution_count": 26,
   "metadata": {},
   "outputs": [],
   "source": [
    "# Defining the Support Vecto Classifier.\n",
    "SVM = SVC(C=1.0, kernel='linear', degree=3, gamma='auto')"
   ]
  },
  {
   "cell_type": "code",
   "execution_count": 27,
   "metadata": {},
   "outputs": [
    {
     "data": {
      "text/plain": [
       "SVC(C=1.0, cache_size=200, class_weight=None, coef0=0.0,\n",
       "    decision_function_shape='ovr', degree=3, gamma='auto', kernel='linear',\n",
       "    max_iter=-1, probability=False, random_state=None, shrinking=True,\n",
       "    tol=0.001, verbose=False)"
      ]
     },
     "execution_count": 27,
     "metadata": {},
     "output_type": "execute_result"
    }
   ],
   "source": [
    "# Fitting the model to the training dataSet.\n",
    "SVM.fit(X_train, y_train)"
   ]
  },
  {
   "cell_type": "code",
   "execution_count": 29,
   "metadata": {},
   "outputs": [],
   "source": [
    "# Making prediction on test sample.\n",
    "pred = SVM.predict(X_test)"
   ]
  },
  {
   "cell_type": "code",
   "execution_count": 32,
   "metadata": {},
   "outputs": [
    {
     "name": "stdout",
     "output_type": "stream",
     "text": [
      "[[50704  3122]\n",
      " [ 3557 44465]]\n"
     ]
    }
   ],
   "source": [
    "print(metrics.confusion_matrix(y_test,pred))"
   ]
  },
  {
   "cell_type": "code",
   "execution_count": 33,
   "metadata": {},
   "outputs": [
    {
     "name": "stdout",
     "output_type": "stream",
     "text": [
      "              precision    recall  f1-score   support\n",
      "\n",
      "           0       0.93      0.94      0.94     53826\n",
      "           1       0.93      0.93      0.93     48022\n",
      "\n",
      "    accuracy                           0.93    101848\n",
      "   macro avg       0.93      0.93      0.93    101848\n",
      "weighted avg       0.93      0.93      0.93    101848\n",
      "\n"
     ]
    }
   ],
   "source": [
    "\"\"\"\n",
    "\n",
    "    Below is the classification report of the model.\n",
    "    We can check the Precision, recall, f1 and support scores.\n",
    "    \n",
    "\"\"\"\n",
    "print(metrics.classification_report(y_test,pred))"
   ]
  },
  {
   "cell_type": "code",
   "execution_count": 34,
   "metadata": {},
   "outputs": [
    {
     "data": {
      "text/plain": [
       "['svcModel.joblib']"
      ]
     },
     "execution_count": 34,
     "metadata": {},
     "output_type": "execute_result"
    }
   ],
   "source": [
    "#Taking the backup of the model\n",
    "#dump(SVM, \"svcModel.joblib\")"
   ]
  }
 ],
 "metadata": {
  "colab": {
   "name": "Take_home_assesment",
   "provenance": []
  },
  "kernelspec": {
   "display_name": "Python 3",
   "language": "python",
   "name": "python3"
  },
  "language_info": {
   "codemirror_mode": {
    "name": "ipython",
    "version": 3
   },
   "file_extension": ".py",
   "mimetype": "text/x-python",
   "name": "python",
   "nbconvert_exporter": "python",
   "pygments_lexer": "ipython3",
   "version": "3.7.3"
  }
 },
 "nbformat": 4,
 "nbformat_minor": 1
}
