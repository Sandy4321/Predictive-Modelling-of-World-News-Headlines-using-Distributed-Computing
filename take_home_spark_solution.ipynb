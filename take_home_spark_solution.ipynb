{
 "cells": [
  {
   "cell_type": "code",
   "execution_count": 16,
   "metadata": {},
   "outputs": [
    {
     "name": "stderr",
     "output_type": "stream",
     "text": [
      "[nltk_data] Downloading package stopwords to\n",
      "[nltk_data]     /home/kaushik/nltk_data...\n",
      "[nltk_data]   Package stopwords is already up-to-date!\n",
      "[nltk_data] Downloading package punkt to /home/kaushik/nltk_data...\n",
      "[nltk_data]   Package punkt is already up-to-date!\n",
      "[nltk_data] Downloading package wordnet to /home/kaushik/nltk_data...\n",
      "[nltk_data]   Package wordnet is already up-to-date!\n",
      "[nltk_data] Downloading package vader_lexicon to\n",
      "[nltk_data]     /home/kaushik/nltk_data...\n",
      "[nltk_data]   Package vader_lexicon is already up-to-date!\n"
     ]
    }
   ],
   "source": [
    "import pandas as pd\n",
    "import numpy as np\n",
    "import datetime\n",
    "\n",
    "#Libraries for data visualization\n",
    "from os import path\n",
    "from PIL import Image\n",
    "from wordcloud import WordCloud, STOPWORDS, ImageColorGenerator\n",
    "import matplotlib.pyplot as plt\n",
    "%matplotlib inline\n",
    "import seaborn as sns\n",
    "\n",
    "#Libraries for text pre-processing\n",
    "import re\n",
    "import nltk\n",
    "# Stopwords needs to be downloaded before use\n",
    "from nltk.corpus import stopwords\n",
    "from nltk.stem.porter import PorterStemmer\n",
    "from nltk.tokenize import RegexpTokenizer \n",
    "from nltk.tokenize import word_tokenize\n",
    "# WordNetLemmatizer needs to be downloaded before use\n",
    "from nltk.stem.wordnet import WordNetLemmatizer\n",
    "#To track function execution\n",
    "from tqdm import tqdm\n",
    "from bs4 import BeautifulSoup\n",
    "\n",
    "#Libraries for text preparation and visualization\n",
    "from sklearn.feature_extraction.text import TfidfVectorizer as T\n",
    "from sklearn.feature_extraction.text import CountVectorizer as c\n",
    "from sklearn.feature_extraction.text import TfidfTransformer as Tf\n",
    "from sklearn.decomposition import LatentDirichletAllocation \n",
    "from scipy.sparse import coo_matrix\n",
    "\n",
    "#Libraries for Sentimental analysis\n",
    "from nltk.sentiment.vader import SentimentIntensityAnalyzer\n",
    "\n",
    "#Downloads\n",
    "nltk.download('stopwords')\n",
    "nltk.download('punkt')\n",
    "nltk.download('wordnet')\n",
    "nltk.download('vader_lexicon')\n",
    "\n",
    "# Loading spark libraries\n",
    "import pyspark\n",
    "import string\n",
    "from pyspark.sql import SQLContext\n",
    "from pyspark.sql import SparkSession\n",
    "from pyspark.sql.types import *\n",
    "\n",
    "#For cleaning Text\n",
    "from pyspark.sql.functions import col, lower, regexp_replace, split, size, length\n",
    "\n",
    "# Spark Machine Learning Libraries\n",
    "from pyspark.mllib.util import MLUtils\n",
    "from pyspark.ml.feature import CountVectorizer, CountVectorizerModel, Tokenizer, RegexTokenizer, StopWordsRemover  \n",
    "from pyspark.ml.feature import VectorAssembler, IDF, StringIndexer\n",
    "from pyspark.ml.classification import LinearSVC\n",
    "from pyspark.ml import Pipeline\n",
    "from pyspark.ml.evaluation import MulticlassClassificationEvaluator\n",
    "from pyspark.ml.regression import LinearRegression\n",
    "from pyspark.mllib.linalg import Vector, Vectors\n",
    "from pyspark.mllib.clustering import LDA, LDAModel"
   ]
  },
  {
   "cell_type": "code",
   "execution_count": 2,
   "metadata": {},
   "outputs": [
    {
     "data": {
      "text/plain": [
       "time_created    0\n",
       "date_created    0\n",
       "up_votes        0\n",
       "down_votes      0\n",
       "title           0\n",
       "over_18         0\n",
       "author          0\n",
       "category        0\n",
       "dtype: int64"
      ]
     },
     "execution_count": 2,
     "metadata": {},
     "output_type": "execute_result"
    }
   ],
   "source": [
    "df = pd.read_csv(\"/home/kaushik/to_share/Eluvio_DS_Challenge.csv\")\n",
    "#making a copy of dataframe for later phase\n",
    "df2 = df\n",
    "# Checking for Null values.\n",
    "df.isnull().sum()"
   ]
  },
  {
   "cell_type": "code",
   "execution_count": 4,
   "metadata": {},
   "outputs": [
    {
     "data": {
      "text/html": [
       "<div>\n",
       "<style scoped>\n",
       "    .dataframe tbody tr th:only-of-type {\n",
       "        vertical-align: middle;\n",
       "    }\n",
       "\n",
       "    .dataframe tbody tr th {\n",
       "        vertical-align: top;\n",
       "    }\n",
       "\n",
       "    .dataframe thead th {\n",
       "        text-align: right;\n",
       "    }\n",
       "</style>\n",
       "<table border=\"1\" class=\"dataframe\">\n",
       "  <thead>\n",
       "    <tr style=\"text-align: right;\">\n",
       "      <th></th>\n",
       "      <th>time_created</th>\n",
       "      <th>date_created</th>\n",
       "      <th>up_votes</th>\n",
       "      <th>down_votes</th>\n",
       "      <th>title</th>\n",
       "      <th>over_18</th>\n",
       "      <th>author</th>\n",
       "      <th>category</th>\n",
       "    </tr>\n",
       "  </thead>\n",
       "  <tbody>\n",
       "    <tr>\n",
       "      <td>0</td>\n",
       "      <td>508329</td>\n",
       "      <td>3223</td>\n",
       "      <td>5782</td>\n",
       "      <td>1</td>\n",
       "      <td>500720</td>\n",
       "      <td>2</td>\n",
       "      <td>85838</td>\n",
       "      <td>1</td>\n",
       "    </tr>\n",
       "  </tbody>\n",
       "</table>\n",
       "</div>"
      ],
      "text/plain": [
       "   time_created  date_created  up_votes  down_votes   title  over_18  author  \\\n",
       "0        508329          3223      5782           1  500720        2   85838   \n",
       "\n",
       "   category  \n",
       "0         1  "
      ]
     },
     "execution_count": 4,
     "metadata": {},
     "output_type": "execute_result"
    }
   ],
   "source": [
    "# Checking for unique values in each column\n",
    "unique_plot = {}\n",
    "for i in df.columns:\n",
    "  unique_plot[i] = df[i].nunique()\n",
    "\n",
    "unique_df = pd.DataFrame(data = unique_plot, index = [0])\n",
    "unique_df"
   ]
  },
  {
   "cell_type": "code",
   "execution_count": 5,
   "metadata": {},
   "outputs": [
    {
     "data": {
      "image/png": "[encoded data removed]",
      "text/plain": [
       "<Figure size 432x288 with 1 Axes>"
      ]
     },
     "metadata": {},
     "output_type": "display_data"
    }
   ],
   "source": [
    "#Plotting the graph for visualizing the above findings.\n",
    "sns.set(style=\"whitegrid\")\n",
    "ax = sns.barplot(data=unique_df,orient = 'h')"
   ]
  },
  {
   "cell_type": "code",
   "execution_count": 6,
   "metadata": {},
   "outputs": [
    {
     "data": {
      "text/html": [
       "<div>\n",
       "<style scoped>\n",
       "    .dataframe tbody tr th:only-of-type {\n",
       "        vertical-align: middle;\n",
       "    }\n",
       "\n",
       "    .dataframe tbody tr th {\n",
       "        vertical-align: top;\n",
       "    }\n",
       "\n",
       "    .dataframe thead th {\n",
       "        text-align: right;\n",
       "    }\n",
       "</style>\n",
       "<table border=\"1\" class=\"dataframe\">\n",
       "  <thead>\n",
       "    <tr style=\"text-align: right;\">\n",
       "      <th></th>\n",
       "      <th>time_created</th>\n",
       "      <th>date_created</th>\n",
       "      <th>up_votes</th>\n",
       "      <th>down_votes</th>\n",
       "      <th>title</th>\n",
       "      <th>over_18</th>\n",
       "      <th>author</th>\n",
       "      <th>category</th>\n",
       "    </tr>\n",
       "  </thead>\n",
       "  <tbody>\n",
       "    <tr>\n",
       "      <td>4179</td>\n",
       "      <td>1208626819</td>\n",
       "      <td>2008-04-19</td>\n",
       "      <td>0</td>\n",
       "      <td>0</td>\n",
       "      <td>Mortal Kombat vs. DC Universe xbox 360 game pr...</td>\n",
       "      <td>False</td>\n",
       "      <td>Aerik</td>\n",
       "      <td>worldnews</td>\n",
       "    </tr>\n",
       "    <tr>\n",
       "      <td>5593</td>\n",
       "      <td>1210005800</td>\n",
       "      <td>2008-05-05</td>\n",
       "      <td>0</td>\n",
       "      <td>0</td>\n",
       "      <td>Independent News Reports  Surge  In Sadr City ...</td>\n",
       "      <td>False</td>\n",
       "      <td>MikaelMN</td>\n",
       "      <td>worldnews</td>\n",
       "    </tr>\n",
       "    <tr>\n",
       "      <td>7567</td>\n",
       "      <td>1211901242</td>\n",
       "      <td>2008-05-27</td>\n",
       "      <td>0</td>\n",
       "      <td>0</td>\n",
       "      <td>Trouble comes in threes, with quakes it is man...</td>\n",
       "      <td>False</td>\n",
       "      <td>BookWormPride</td>\n",
       "      <td>worldnews</td>\n",
       "    </tr>\n",
       "    <tr>\n",
       "      <td>11684</td>\n",
       "      <td>1216100913</td>\n",
       "      <td>2008-07-15</td>\n",
       "      <td>0</td>\n",
       "      <td>0</td>\n",
       "      <td>redditors are often keen to talk about conspir...</td>\n",
       "      <td>False</td>\n",
       "      <td>cthulhufhtagn</td>\n",
       "      <td>worldnews</td>\n",
       "    </tr>\n",
       "    <tr>\n",
       "      <td>11876</td>\n",
       "      <td>1216254290</td>\n",
       "      <td>2008-07-17</td>\n",
       "      <td>0</td>\n",
       "      <td>0</td>\n",
       "      <td>Saudi king opens inter-faith summit</td>\n",
       "      <td>False</td>\n",
       "      <td>cup</td>\n",
       "      <td>worldnews</td>\n",
       "    </tr>\n",
       "    <tr>\n",
       "      <td>56926</td>\n",
       "      <td>1274795505</td>\n",
       "      <td>2010-05-25</td>\n",
       "      <td>0</td>\n",
       "      <td>0</td>\n",
       "      <td>Germany After the EU and the Russian Scenario</td>\n",
       "      <td>False</td>\n",
       "      <td>greenHaired</td>\n",
       "      <td>worldnews</td>\n",
       "    </tr>\n",
       "  </tbody>\n",
       "</table>\n",
       "</div>"
      ],
      "text/plain": [
       "       time_created date_created  up_votes  down_votes  \\\n",
       "4179     1208626819   2008-04-19         0           0   \n",
       "5593     1210005800   2008-05-05         0           0   \n",
       "7567     1211901242   2008-05-27         0           0   \n",
       "11684    1216100913   2008-07-15         0           0   \n",
       "11876    1216254290   2008-07-17         0           0   \n",
       "56926    1274795505   2010-05-25         0           0   \n",
       "\n",
       "                                                   title  over_18  \\\n",
       "4179   Mortal Kombat vs. DC Universe xbox 360 game pr...    False   \n",
       "5593   Independent News Reports  Surge  In Sadr City ...    False   \n",
       "7567   Trouble comes in threes, with quakes it is man...    False   \n",
       "11684  redditors are often keen to talk about conspir...    False   \n",
       "11876                Saudi king opens inter-faith summit    False   \n",
       "56926      Germany After the EU and the Russian Scenario    False   \n",
       "\n",
       "              author   category  \n",
       "4179           Aerik  worldnews  \n",
       "5593        MikaelMN  worldnews  \n",
       "7567   BookWormPride  worldnews  \n",
       "11684  cthulhufhtagn  worldnews  \n",
       "11876            cup  worldnews  \n",
       "56926    greenHaired  worldnews  "
      ]
     },
     "execution_count": 6,
     "metadata": {},
     "output_type": "execute_result"
    }
   ],
   "source": [
    "# Checking for duplicate values\n",
    "df[df.duplicated()]"
   ]
  },
  {
   "cell_type": "code",
   "execution_count": 7,
   "metadata": {},
   "outputs": [
    {
     "data": {
      "text/html": [
       "<div>\n",
       "<style scoped>\n",
       "    .dataframe tbody tr th:only-of-type {\n",
       "        vertical-align: middle;\n",
       "    }\n",
       "\n",
       "    .dataframe tbody tr th {\n",
       "        vertical-align: top;\n",
       "    }\n",
       "\n",
       "    .dataframe thead th {\n",
       "        text-align: right;\n",
       "    }\n",
       "</style>\n",
       "<table border=\"1\" class=\"dataframe\">\n",
       "  <thead>\n",
       "    <tr style=\"text-align: right;\">\n",
       "      <th></th>\n",
       "      <th>time_created</th>\n",
       "      <th>date_created</th>\n",
       "      <th>up_votes</th>\n",
       "      <th>down_votes</th>\n",
       "      <th>title</th>\n",
       "      <th>over_18</th>\n",
       "      <th>author</th>\n",
       "      <th>category</th>\n",
       "    </tr>\n",
       "  </thead>\n",
       "  <tbody>\n",
       "    <tr>\n",
       "      <td>0</td>\n",
       "      <td>1201232046</td>\n",
       "      <td>2008-01-25</td>\n",
       "      <td>3</td>\n",
       "      <td>0</td>\n",
       "      <td>Scores killed in Pakistan clashes</td>\n",
       "      <td>False</td>\n",
       "      <td>polar</td>\n",
       "      <td>worldnews</td>\n",
       "    </tr>\n",
       "    <tr>\n",
       "      <td>1</td>\n",
       "      <td>1201232075</td>\n",
       "      <td>2008-01-25</td>\n",
       "      <td>2</td>\n",
       "      <td>0</td>\n",
       "      <td>Japan resumes refuelling mission</td>\n",
       "      <td>False</td>\n",
       "      <td>polar</td>\n",
       "      <td>worldnews</td>\n",
       "    </tr>\n",
       "    <tr>\n",
       "      <td>2</td>\n",
       "      <td>1201232523</td>\n",
       "      <td>2008-01-25</td>\n",
       "      <td>3</td>\n",
       "      <td>0</td>\n",
       "      <td>US presses Egypt on Gaza border</td>\n",
       "      <td>False</td>\n",
       "      <td>polar</td>\n",
       "      <td>worldnews</td>\n",
       "    </tr>\n",
       "    <tr>\n",
       "      <td>3</td>\n",
       "      <td>1201233290</td>\n",
       "      <td>2008-01-25</td>\n",
       "      <td>1</td>\n",
       "      <td>0</td>\n",
       "      <td>Jump-start economy: Give health care to all</td>\n",
       "      <td>False</td>\n",
       "      <td>fadi420</td>\n",
       "      <td>worldnews</td>\n",
       "    </tr>\n",
       "    <tr>\n",
       "      <td>4</td>\n",
       "      <td>1201274720</td>\n",
       "      <td>2008-01-25</td>\n",
       "      <td>4</td>\n",
       "      <td>0</td>\n",
       "      <td>Council of Europe bashes EU&amp;UN terror blacklist</td>\n",
       "      <td>False</td>\n",
       "      <td>mhermans</td>\n",
       "      <td>worldnews</td>\n",
       "    </tr>\n",
       "  </tbody>\n",
       "</table>\n",
       "</div>"
      ],
      "text/plain": [
       "   time_created date_created  up_votes  down_votes  \\\n",
       "0    1201232046   2008-01-25         3           0   \n",
       "1    1201232075   2008-01-25         2           0   \n",
       "2    1201232523   2008-01-25         3           0   \n",
       "3    1201233290   2008-01-25         1           0   \n",
       "4    1201274720   2008-01-25         4           0   \n",
       "\n",
       "                                             title  over_18    author  \\\n",
       "0                Scores killed in Pakistan clashes    False     polar   \n",
       "1                 Japan resumes refuelling mission    False     polar   \n",
       "2                  US presses Egypt on Gaza border    False     polar   \n",
       "3     Jump-start economy: Give health care to all     False   fadi420   \n",
       "4  Council of Europe bashes EU&UN terror blacklist    False  mhermans   \n",
       "\n",
       "    category  \n",
       "0  worldnews  \n",
       "1  worldnews  \n",
       "2  worldnews  \n",
       "3  worldnews  \n",
       "4  worldnews  "
      ]
     },
     "execution_count": 7,
     "metadata": {},
     "output_type": "execute_result"
    }
   ],
   "source": [
    "#After dropping the duplicates \n",
    "df.drop_duplicates().head()"
   ]
  },
  {
   "cell_type": "code",
   "execution_count": 8,
   "metadata": {},
   "outputs": [
    {
     "data": {
      "text/html": [
       "<div>\n",
       "<style scoped>\n",
       "    .dataframe tbody tr th:only-of-type {\n",
       "        vertical-align: middle;\n",
       "    }\n",
       "\n",
       "    .dataframe tbody tr th {\n",
       "        vertical-align: top;\n",
       "    }\n",
       "\n",
       "    .dataframe thead th {\n",
       "        text-align: right;\n",
       "    }\n",
       "</style>\n",
       "<table border=\"1\" class=\"dataframe\">\n",
       "  <thead>\n",
       "    <tr style=\"text-align: right;\">\n",
       "      <th></th>\n",
       "      <th>title</th>\n",
       "    </tr>\n",
       "    <tr>\n",
       "      <th>year</th>\n",
       "      <th></th>\n",
       "    </tr>\n",
       "  </thead>\n",
       "  <tbody>\n",
       "    <tr>\n",
       "      <td>2008</td>\n",
       "      <td>22505</td>\n",
       "    </tr>\n",
       "    <tr>\n",
       "      <td>2009</td>\n",
       "      <td>25115</td>\n",
       "    </tr>\n",
       "    <tr>\n",
       "      <td>2010</td>\n",
       "      <td>23313</td>\n",
       "    </tr>\n",
       "    <tr>\n",
       "      <td>2011</td>\n",
       "      <td>38886</td>\n",
       "    </tr>\n",
       "    <tr>\n",
       "      <td>2012</td>\n",
       "      <td>42643</td>\n",
       "    </tr>\n",
       "    <tr>\n",
       "      <td>2013</td>\n",
       "      <td>88231</td>\n",
       "    </tr>\n",
       "    <tr>\n",
       "      <td>2014</td>\n",
       "      <td>92030</td>\n",
       "    </tr>\n",
       "    <tr>\n",
       "      <td>2015</td>\n",
       "      <td>94621</td>\n",
       "    </tr>\n",
       "    <tr>\n",
       "      <td>2016</td>\n",
       "      <td>81892</td>\n",
       "    </tr>\n",
       "  </tbody>\n",
       "</table>\n",
       "</div>"
      ],
      "text/plain": [
       "      title\n",
       "year       \n",
       "2008  22505\n",
       "2009  25115\n",
       "2010  23313\n",
       "2011  38886\n",
       "2012  42643\n",
       "2013  88231\n",
       "2014  92030\n",
       "2015  94621\n",
       "2016  81892"
      ]
     },
     "execution_count": 8,
     "metadata": {},
     "output_type": "execute_result"
    }
   ],
   "source": [
    "# Dropping category and down_votes as they have same values.\n",
    "df.drop(columns=[\"down_votes\",\"category\"],axis = 1, inplace = True)\n",
    "\n",
    "# Extracting Year the article was published.\n",
    "df[\"year\"] = pd.to_datetime(df['date_created']).dt.year\n",
    "\n",
    "#Number of articles published Each year.\n",
    "df[[\"title\",\"year\"]].groupby(\"year\").count()"
   ]
  },
  {
   "cell_type": "markdown",
   "metadata": {},
   "source": [
    "# Text Preprocessing for Data Exploration"
   ]
  },
  {
   "cell_type": "code",
   "execution_count": 9,
   "metadata": {},
   "outputs": [
    {
     "data": {
      "text/plain": [
       "to       204943\n",
       "in       196008\n",
       "the      176203\n",
       "of       170501\n",
       "a         93169\n",
       "and       84224\n",
       "s         78501\n",
       "for       75960\n",
       "on        70010\n",
       "-         40879\n",
       "as        36251\n",
       "by        35947\n",
       "is        35737\n",
       "with      34999\n",
       "The       34700\n",
       "from      31750\n",
       "at        28978\n",
       "has       27895\n",
       "that      27592\n",
       "after     24864\n",
       "dtype: int64"
      ]
     },
     "execution_count": 9,
     "metadata": {},
     "output_type": "execute_result"
    }
   ],
   "source": [
    "#Checking for top 20 most repeated words - Gives insights on data specific stop words.\n",
    "common_words = pd.Series(' '.join(df[\"title\"]).split()).value_counts()\n",
    "common_words[:20]"
   ]
  },
  {
   "cell_type": "code",
   "execution_count": 10,
   "metadata": {},
   "outputs": [],
   "source": [
    "# Building our Stop words list to be removed. - Take list of inbuilt stopwords and customizing it by added stopwords specific to this documents (From most common words generated in above step)\n",
    "stop_words = set(stopwords.words(\"english\")) \n",
    "\n",
    "#Adding common words of this document to stop_words\n",
    "add_words = [\"to\",\"in\",\"the\",\"of\",\"a\",\"and\",\"s\",\"-\",\"as\",\"by\",\"for\",\"is\",\"with\",\"The\",\"from\",\"at\",\"has\",\"that\",\"after\"]\n",
    "stop_words = stop_words.union(add_words)\n",
    "\n",
    "#Below is the function to clean the text and prepare it for next phase. \n",
    "from tqdm import tqdm\n",
    "corpus = []\n",
    "def clean_content(data):\n",
    "    cleaned_content = []\n",
    "\n",
    "    for sent in tqdm(data):\n",
    "        \n",
    "        #remove html content\n",
    "        review_content = BeautifulSoup(sent).get_text()\n",
    "            \n",
    "        #remove non-alphabetic characters\n",
    "        review_content = re.sub(\"[^a-zA-Z]\",\" \", review_content)\n",
    "    \n",
    "        #tokenize the sentences\n",
    "        words = word_tokenize(review_content.lower())\n",
    "    \n",
    "        #lemmatize each word to its lemma\n",
    "        lem = WordNetLemmatizer()\n",
    "        lemma_words = [lem.lemmatize(word) for word in words if not word in stop_words] \n",
    "        lemma_words = \" \".join(lemma_words)\n",
    "        cleaned_content.append(lemma_words)\n",
    "        \n",
    "        corpus.append(lemma_words)\n",
    "        \n",
    "        \n",
    "    return(cleaned_content)"
   ]
  },
  {
   "cell_type": "code",
   "execution_count": 11,
   "metadata": {},
   "outputs": [
    {
     "name": "stderr",
     "output_type": "stream",
     "text": [
      "  0%|          | 1451/509236 [00:01<31:09:59,  4.53it/s]/home/kaushik/anaconda3/lib/python3.7/site-packages/bs4/__init__.py:357: UserWarning: \"http://mentalmasturbator.com/2008/03/21/democrats-losing-electoral-advantage/\" looks like a URL. Beautiful Soup is not an HTTP client. You should probably use an HTTP client like requests to get the document behind the URL, and feed that document to Beautiful Soup.\n",
      "  ' that document to Beautiful Soup.' % decoded_markup\n",
      "  5%|▌         | 26648/509236 [00:10<02:38, 3051.65it/s]/home/kaushik/anaconda3/lib/python3.7/site-packages/bs4/__init__.py:357: UserWarning: \"http://www.comcast.net/data/fan/html/popup.html?v=1030143489&pl=Comcast/1030032788.xml&launchpoint=Cover&cid=fancover&attr=default_headline&config=/config/common/fan/default.xml\" looks like a URL. Beautiful Soup is not an HTTP client. You should probably use an HTTP client like requests to get the document behind the URL, and feed that document to Beautiful Soup.\n",
      "  ' that document to Beautiful Soup.' % decoded_markup\n",
      "  8%|▊         | 43044/509236 [00:16<02:58, 2609.05it/s]/home/kaushik/anaconda3/lib/python3.7/site-packages/bs4/__init__.py:357: UserWarning: \"http://www.dawn.com/wps/wcm/connect/dawn-content-library/dawn/news/pakistan/14-bagram-and-the-fine-print-zj-04\" looks like a URL. Beautiful Soup is not an HTTP client. You should probably use an HTTP client like requests to get the document behind the URL, and feed that document to Beautiful Soup.\n",
      "  ' that document to Beautiful Soup.' % decoded_markup\n",
      " 16%|█▌        | 79835/509236 [00:30<02:54, 2465.84it/s]/home/kaushik/anaconda3/lib/python3.7/site-packages/bs4/__init__.py:357: UserWarning: \"http://www.nypost.com/p/news/international/nuclear_power_station_explodes_in_lMAD34kuD0536Cb4hSAFMP\" looks like a URL. Beautiful Soup is not an HTTP client. You should probably use an HTTP client like requests to get the document behind the URL, and feed that document to Beautiful Soup.\n",
      "  ' that document to Beautiful Soup.' % decoded_markup\n",
      " 16%|█▌        | 80812/509236 [00:31<03:01, 2365.28it/s]/home/kaushik/anaconda3/lib/python3.7/site-packages/bs4/__init__.py:357: UserWarning: \"http://www.atimes.com/atimes/Middle_East/MC19Ak04.html\" looks like a URL. Beautiful Soup is not an HTTP client. You should probably use an HTTP client like requests to get the document behind the URL, and feed that document to Beautiful Soup.\n",
      "  ' that document to Beautiful Soup.' % decoded_markup\n",
      " 36%|███▌      | 184220/509236 [01:19<02:47, 1937.51it/s]/home/kaushik/anaconda3/lib/python3.7/site-packages/bs4/__init__.py:294: UserWarning: \"b'.'\" looks like a filename, not markup. You should probably open this file and pass the filehandle into Beautiful Soup.\n",
      "  ' Beautiful Soup.' % markup)\n",
      " 66%|██████▌   | 333634/509236 [02:34<01:17, 2259.28it/s]/home/kaushik/anaconda3/lib/python3.7/site-packages/bs4/__init__.py:357: UserWarning: \"http://www.independent.co.uk/news/uk/crime/prince-andrew-sex-allegations-documents-about-princes-support-for-jeffrey-epstein-concealed-9959218.html\" looks like a URL. Beautiful Soup is not an HTTP client. You should probably use an HTTP client like requests to get the document behind the URL, and feed that document to Beautiful Soup.\n",
      "  ' that document to Beautiful Soup.' % decoded_markup\n",
      " 93%|█████████▎| 473196/509236 [03:36<00:15, 2383.11it/s]/home/kaushik/anaconda3/lib/python3.7/site-packages/bs4/__init__.py:357: UserWarning: \"https://www.theguardian.com/sport/2016/jun/28/rio-olympics-safety-security-budgets-cut\" looks like a URL. Beautiful Soup is not an HTTP client. You should probably use an HTTP client like requests to get the document behind the URL, and feed that document to Beautiful Soup.\n",
      "  ' that document to Beautiful Soup.' % decoded_markup\n",
      "100%|██████████| 509236/509236 [03:52<00:00, 2193.35it/s]\n"
     ]
    }
   ],
   "source": [
    "# Calling the clean_content method to clean the titel column of the dataset\n",
    "df[\"cleaned_content\"] = clean_content(df[\"title\"])"
   ]
  },
  {
   "cell_type": "code",
   "execution_count": 12,
   "metadata": {},
   "outputs": [
    {
     "data": {
      "text/html": [
       "<div>\n",
       "<style scoped>\n",
       "    .dataframe tbody tr th:only-of-type {\n",
       "        vertical-align: middle;\n",
       "    }\n",
       "\n",
       "    .dataframe tbody tr th {\n",
       "        vertical-align: top;\n",
       "    }\n",
       "\n",
       "    .dataframe thead th {\n",
       "        text-align: right;\n",
       "    }\n",
       "</style>\n",
       "<table border=\"1\" class=\"dataframe\">\n",
       "  <thead>\n",
       "    <tr style=\"text-align: right;\">\n",
       "      <th></th>\n",
       "      <th>time_created</th>\n",
       "      <th>date_created</th>\n",
       "      <th>up_votes</th>\n",
       "      <th>title</th>\n",
       "      <th>over_18</th>\n",
       "      <th>author</th>\n",
       "      <th>year</th>\n",
       "      <th>cleaned_content</th>\n",
       "    </tr>\n",
       "  </thead>\n",
       "  <tbody>\n",
       "    <tr>\n",
       "      <td>0</td>\n",
       "      <td>1201232046</td>\n",
       "      <td>2008-01-25</td>\n",
       "      <td>3</td>\n",
       "      <td>Scores killed in Pakistan clashes</td>\n",
       "      <td>False</td>\n",
       "      <td>polar</td>\n",
       "      <td>2008</td>\n",
       "      <td>score killed pakistan clash</td>\n",
       "    </tr>\n",
       "    <tr>\n",
       "      <td>1</td>\n",
       "      <td>1201232075</td>\n",
       "      <td>2008-01-25</td>\n",
       "      <td>2</td>\n",
       "      <td>Japan resumes refuelling mission</td>\n",
       "      <td>False</td>\n",
       "      <td>polar</td>\n",
       "      <td>2008</td>\n",
       "      <td>japan resume refuelling mission</td>\n",
       "    </tr>\n",
       "    <tr>\n",
       "      <td>2</td>\n",
       "      <td>1201232523</td>\n",
       "      <td>2008-01-25</td>\n",
       "      <td>3</td>\n",
       "      <td>US presses Egypt on Gaza border</td>\n",
       "      <td>False</td>\n",
       "      <td>polar</td>\n",
       "      <td>2008</td>\n",
       "      <td>u press egypt gaza border</td>\n",
       "    </tr>\n",
       "    <tr>\n",
       "      <td>3</td>\n",
       "      <td>1201233290</td>\n",
       "      <td>2008-01-25</td>\n",
       "      <td>1</td>\n",
       "      <td>Jump-start economy: Give health care to all</td>\n",
       "      <td>False</td>\n",
       "      <td>fadi420</td>\n",
       "      <td>2008</td>\n",
       "      <td>jump start economy give health care</td>\n",
       "    </tr>\n",
       "    <tr>\n",
       "      <td>4</td>\n",
       "      <td>1201274720</td>\n",
       "      <td>2008-01-25</td>\n",
       "      <td>4</td>\n",
       "      <td>Council of Europe bashes EU&amp;UN terror blacklist</td>\n",
       "      <td>False</td>\n",
       "      <td>mhermans</td>\n",
       "      <td>2008</td>\n",
       "      <td>council europe bash eu un terror blacklist</td>\n",
       "    </tr>\n",
       "  </tbody>\n",
       "</table>\n",
       "</div>"
      ],
      "text/plain": [
       "   time_created date_created  up_votes  \\\n",
       "0    1201232046   2008-01-25         3   \n",
       "1    1201232075   2008-01-25         2   \n",
       "2    1201232523   2008-01-25         3   \n",
       "3    1201233290   2008-01-25         1   \n",
       "4    1201274720   2008-01-25         4   \n",
       "\n",
       "                                             title  over_18    author  year  \\\n",
       "0                Scores killed in Pakistan clashes    False     polar  2008   \n",
       "1                 Japan resumes refuelling mission    False     polar  2008   \n",
       "2                  US presses Egypt on Gaza border    False     polar  2008   \n",
       "3     Jump-start economy: Give health care to all     False   fadi420  2008   \n",
       "4  Council of Europe bashes EU&UN terror blacklist    False  mhermans  2008   \n",
       "\n",
       "                              cleaned_content  \n",
       "0                 score killed pakistan clash  \n",
       "1             japan resume refuelling mission  \n",
       "2                   u press egypt gaza border  \n",
       "3         jump start economy give health care  \n",
       "4  council europe bash eu un terror blacklist  "
      ]
     },
     "execution_count": 12,
     "metadata": {},
     "output_type": "execute_result"
    }
   ],
   "source": [
    "df.head()"
   ]
  },
  {
   "cell_type": "markdown",
   "metadata": {},
   "source": [
    "# Data Exploration"
   ]
  },
  {
   "cell_type": "code",
   "execution_count": 13,
   "metadata": {},
   "outputs": [
    {
     "name": "stdout",
     "output_type": "stream",
     "text": [
      "<wordcloud.wordcloud.WordCloud object at 0x7f0b9625f8d0>\n"
     ]
    },
    {
     "data": {
      "image/png": "[encoded data removed]",
      "text/plain": [
       "<Figure size 432x288 with 1 Axes>"
      ]
     },
     "metadata": {},
     "output_type": "display_data"
    }
   ],
   "source": [
    "#Visualizing the content after pre-processing for most frequently used words.\n",
    "wordcloud = WordCloud(\n",
    "                    background_color = \"white\",\n",
    "                    stopwords = stop_words,\n",
    "                    max_words = 100,\n",
    "                    max_font_size = 50).generate(str(corpus))\n",
    "\n",
    "# Displaying the word cloud\n",
    "print(wordcloud)\n",
    "fig = plt.figure(1)\n",
    "plt.imshow(wordcloud)\n",
    "plt.axis('off')\n",
    "plt.show()\n",
    "fig.savefig(\"word1.png\", dpi=900)"
   ]
  },
  {
   "cell_type": "code",
   "execution_count": 19,
   "metadata": {},
   "outputs": [
    {
     "data": {
      "text/plain": [
       "[Text(0, 0, 'say'),\n",
       " Text(0, 0, 'china'),\n",
       " Text(0, 0, 'new'),\n",
       " Text(0, 0, 'year'),\n",
       " Text(0, 0, 'attack'),\n",
       " Text(0, 0, 'syria'),\n",
       " Text(0, 0, 'russia'),\n",
       " Text(0, 0, 'world'),\n",
       " Text(0, 0, 'state'),\n",
       " Text(0, 0, 'government'),\n",
       " Text(0, 0, 'police'),\n",
       " Text(0, 0, 'israel'),\n",
       " Text(0, 0, 'iran'),\n",
       " Text(0, 0, 'president'),\n",
       " Text(0, 0, 'killed'),\n",
       " Text(0, 0, 'people'),\n",
       " Text(0, 0, 'war'),\n",
       " Text(0, 0, 'russian'),\n",
       " Text(0, 0, 'country'),\n",
       " Text(0, 0, 'minister')]"
      ]
     },
     "execution_count": 19,
     "metadata": {},
     "output_type": "execute_result"
    },
    {
     "data": {
      "image/png": "[encoded data removed]",
      "text/plain": [
       "<Figure size 936x576 with 1 Axes>"
      ]
     },
     "metadata": {},
     "output_type": "display_data"
    }
   ],
   "source": [
    "#Visualizing the Most frequently occuring words after cleanup process. \n",
    "def get_top_n_words(corpus, n=None):\n",
    "    vec = c().fit(corpus)\n",
    "    bag_of_words = vec.transform(corpus)\n",
    "    sum_words = bag_of_words.sum(axis=0) \n",
    "    words_freq = [(word, sum_words[0, idx]) for word, idx in      \n",
    "                   vec.vocabulary_.items()]\n",
    "    words_freq =sorted(words_freq, key = lambda x: x[1], \n",
    "                       reverse=True)\n",
    "    return words_freq[:n]\n",
    "\n",
    "#Convert most freq words to dataframe for plotting bar plot\n",
    "top_words = get_top_n_words(corpus, n=20)\n",
    "top_df = pd.DataFrame(top_words)\n",
    "top_df.columns=[\"Word\", \"Freq\"]\n",
    "\n",
    "#Barplot of most freq words\n",
    "sns.set(rc={'figure.figsize':(13,8)})\n",
    "g = sns.barplot(x=\"Word\", y=\"Freq\", data=top_df)\n",
    "g.set_xticklabels(g.get_xticklabels(), rotation=30)"
   ]
  },
  {
   "cell_type": "code",
   "execution_count": 21,
   "metadata": {},
   "outputs": [],
   "source": [
    "# Defining a count vectorizer \n",
    "cv = c(max_df = 0.95, min_df = 2, stop_words= stop_words)\n",
    "dtm = cv.fit_transform(df[\"cleaned_content\"])"
   ]
  },
  {
   "cell_type": "markdown",
   "metadata": {},
   "source": [
    "# Topic Modelling using LDA\n",
    "\n",
    "\n",
    "    Since the news is categorised into only worldnews, i will further split it into 5 more topics using LDA."
   ]
  },
  {
   "cell_type": "code",
   "execution_count": null,
   "metadata": {},
   "outputs": [],
   "source": [
    "LDA5 = LatentDirichletAllocation(n_components=5,random_state=42)\n",
    "LDA5.fit(dtm)"
   ]
  },
  {
   "cell_type": "code",
   "execution_count": null,
   "metadata": {},
   "outputs": [],
   "source": [
    "# Displaying top 15 words of all the topics\n",
    "for index,topic in enumerate(LDA5.components_):\n",
    "    print(f'THE TOP 15 WORDS FOR TOPIC #{index}')\n",
    "    print([cv.get_feature_names()[i] for i in topic.argsort()[-15:]])\n",
    "    print('\\n')"
   ]
  },
  {
   "cell_type": "code",
   "execution_count": null,
   "metadata": {},
   "outputs": [],
   "source": [
    "topic_result = LDA5.transform(dtm)\n",
    "print(topic_result.shape)\n",
    "df[\"topic\"] = topic_result.argmax(axis=1)"
   ]
  },
  {
   "cell_type": "code",
   "execution_count": null,
   "metadata": {},
   "outputs": [],
   "source": [
    "df.head()"
   ]
  },
  {
   "cell_type": "markdown",
   "metadata": {},
   "source": [
    "# Sentiment Analysis to define positive or negative sentiment"
   ]
  },
  {
   "cell_type": "code",
   "execution_count": 22,
   "metadata": {},
   "outputs": [],
   "source": [
    "# Initializing the sentimental Intenity Analyzer\n",
    "sid = SentimentIntensityAnalyzer()\n",
    "\n",
    "def sentiment(x):\n",
    "    dic = sid.polarity_scores(x)\n",
    "    if dic[\"compound\"] >= 0:\n",
    "        return 1\n",
    "    else:\n",
    "        return 0"
   ]
  },
  {
   "cell_type": "code",
   "execution_count": 23,
   "metadata": {},
   "outputs": [],
   "source": [
    "#sentiment_df = df.select(sentiment(col(\"title\")).alias(\"sentiment_score\"))\n",
    "#Appending sentimental scores to the data frame\n",
    "df2[\"sentimental_scores\"] = df2[\"title\"].apply(lambda x: sentiment(x))"
   ]
  },
  {
   "cell_type": "code",
   "execution_count": 24,
   "metadata": {},
   "outputs": [
    {
     "data": {
      "text/html": [
       "<div>\n",
       "<style scoped>\n",
       "    .dataframe tbody tr th:only-of-type {\n",
       "        vertical-align: middle;\n",
       "    }\n",
       "\n",
       "    .dataframe tbody tr th {\n",
       "        vertical-align: top;\n",
       "    }\n",
       "\n",
       "    .dataframe thead th {\n",
       "        text-align: right;\n",
       "    }\n",
       "</style>\n",
       "<table border=\"1\" class=\"dataframe\">\n",
       "  <thead>\n",
       "    <tr style=\"text-align: right;\">\n",
       "      <th></th>\n",
       "      <th>time_created</th>\n",
       "      <th>date_created</th>\n",
       "      <th>up_votes</th>\n",
       "      <th>title</th>\n",
       "      <th>over_18</th>\n",
       "      <th>author</th>\n",
       "      <th>year</th>\n",
       "      <th>cleaned_content</th>\n",
       "      <th>sentimental_scores</th>\n",
       "    </tr>\n",
       "  </thead>\n",
       "  <tbody>\n",
       "    <tr>\n",
       "      <td>0</td>\n",
       "      <td>1201232046</td>\n",
       "      <td>2008-01-25</td>\n",
       "      <td>3</td>\n",
       "      <td>Scores killed in Pakistan clashes</td>\n",
       "      <td>False</td>\n",
       "      <td>polar</td>\n",
       "      <td>2008</td>\n",
       "      <td>score killed pakistan clash</td>\n",
       "      <td>0</td>\n",
       "    </tr>\n",
       "    <tr>\n",
       "      <td>1</td>\n",
       "      <td>1201232075</td>\n",
       "      <td>2008-01-25</td>\n",
       "      <td>2</td>\n",
       "      <td>Japan resumes refuelling mission</td>\n",
       "      <td>False</td>\n",
       "      <td>polar</td>\n",
       "      <td>2008</td>\n",
       "      <td>japan resume refuelling mission</td>\n",
       "      <td>1</td>\n",
       "    </tr>\n",
       "    <tr>\n",
       "      <td>2</td>\n",
       "      <td>1201232523</td>\n",
       "      <td>2008-01-25</td>\n",
       "      <td>3</td>\n",
       "      <td>US presses Egypt on Gaza border</td>\n",
       "      <td>False</td>\n",
       "      <td>polar</td>\n",
       "      <td>2008</td>\n",
       "      <td>u press egypt gaza border</td>\n",
       "      <td>1</td>\n",
       "    </tr>\n",
       "    <tr>\n",
       "      <td>3</td>\n",
       "      <td>1201233290</td>\n",
       "      <td>2008-01-25</td>\n",
       "      <td>1</td>\n",
       "      <td>Jump-start economy: Give health care to all</td>\n",
       "      <td>False</td>\n",
       "      <td>fadi420</td>\n",
       "      <td>2008</td>\n",
       "      <td>jump start economy give health care</td>\n",
       "      <td>1</td>\n",
       "    </tr>\n",
       "    <tr>\n",
       "      <td>4</td>\n",
       "      <td>1201274720</td>\n",
       "      <td>2008-01-25</td>\n",
       "      <td>4</td>\n",
       "      <td>Council of Europe bashes EU&amp;UN terror blacklist</td>\n",
       "      <td>False</td>\n",
       "      <td>mhermans</td>\n",
       "      <td>2008</td>\n",
       "      <td>council europe bash eu un terror blacklist</td>\n",
       "      <td>0</td>\n",
       "    </tr>\n",
       "  </tbody>\n",
       "</table>\n",
       "</div>"
      ],
      "text/plain": [
       "   time_created date_created  up_votes  \\\n",
       "0    1201232046   2008-01-25         3   \n",
       "1    1201232075   2008-01-25         2   \n",
       "2    1201232523   2008-01-25         3   \n",
       "3    1201233290   2008-01-25         1   \n",
       "4    1201274720   2008-01-25         4   \n",
       "\n",
       "                                             title  over_18    author  year  \\\n",
       "0                Scores killed in Pakistan clashes    False     polar  2008   \n",
       "1                 Japan resumes refuelling mission    False     polar  2008   \n",
       "2                  US presses Egypt on Gaza border    False     polar  2008   \n",
       "3     Jump-start economy: Give health care to all     False   fadi420  2008   \n",
       "4  Council of Europe bashes EU&UN terror blacklist    False  mhermans  2008   \n",
       "\n",
       "                              cleaned_content  sentimental_scores  \n",
       "0                 score killed pakistan clash                   0  \n",
       "1             japan resume refuelling mission                   1  \n",
       "2                   u press egypt gaza border                   1  \n",
       "3         jump start economy give health care                   1  \n",
       "4  council europe bash eu un terror blacklist                   0  "
      ]
     },
     "execution_count": 24,
     "metadata": {},
     "output_type": "execute_result"
    }
   ],
   "source": [
    "df2.head()"
   ]
  },
  {
   "cell_type": "code",
   "execution_count": 26,
   "metadata": {},
   "outputs": [],
   "source": [
    "df1 = df2\n",
    "df1.drop(['time_created', 'date_created','author','year','cleaned_content'], axis = 1, inplace = True)"
   ]
  },
  {
   "cell_type": "code",
   "execution_count": 27,
   "metadata": {},
   "outputs": [
    {
     "data": {
      "text/html": [
       "<div>\n",
       "<style scoped>\n",
       "    .dataframe tbody tr th:only-of-type {\n",
       "        vertical-align: middle;\n",
       "    }\n",
       "\n",
       "    .dataframe tbody tr th {\n",
       "        vertical-align: top;\n",
       "    }\n",
       "\n",
       "    .dataframe thead th {\n",
       "        text-align: right;\n",
       "    }\n",
       "</style>\n",
       "<table border=\"1\" class=\"dataframe\">\n",
       "  <thead>\n",
       "    <tr style=\"text-align: right;\">\n",
       "      <th></th>\n",
       "      <th>up_votes</th>\n",
       "      <th>title</th>\n",
       "      <th>over_18</th>\n",
       "      <th>sentimental_scores</th>\n",
       "    </tr>\n",
       "  </thead>\n",
       "  <tbody>\n",
       "    <tr>\n",
       "      <td>0</td>\n",
       "      <td>3</td>\n",
       "      <td>Scores killed in Pakistan clashes</td>\n",
       "      <td>False</td>\n",
       "      <td>0</td>\n",
       "    </tr>\n",
       "    <tr>\n",
       "      <td>1</td>\n",
       "      <td>2</td>\n",
       "      <td>Japan resumes refuelling mission</td>\n",
       "      <td>False</td>\n",
       "      <td>1</td>\n",
       "    </tr>\n",
       "    <tr>\n",
       "      <td>2</td>\n",
       "      <td>3</td>\n",
       "      <td>US presses Egypt on Gaza border</td>\n",
       "      <td>False</td>\n",
       "      <td>1</td>\n",
       "    </tr>\n",
       "    <tr>\n",
       "      <td>3</td>\n",
       "      <td>1</td>\n",
       "      <td>Jump-start economy: Give health care to all</td>\n",
       "      <td>False</td>\n",
       "      <td>1</td>\n",
       "    </tr>\n",
       "    <tr>\n",
       "      <td>4</td>\n",
       "      <td>4</td>\n",
       "      <td>Council of Europe bashes EU&amp;UN terror blacklist</td>\n",
       "      <td>False</td>\n",
       "      <td>0</td>\n",
       "    </tr>\n",
       "  </tbody>\n",
       "</table>\n",
       "</div>"
      ],
      "text/plain": [
       "   up_votes                                            title  over_18  \\\n",
       "0         3                Scores killed in Pakistan clashes    False   \n",
       "1         2                 Japan resumes refuelling mission    False   \n",
       "2         3                  US presses Egypt on Gaza border    False   \n",
       "3         1     Jump-start economy: Give health care to all     False   \n",
       "4         4  Council of Europe bashes EU&UN terror blacklist    False   \n",
       "\n",
       "   sentimental_scores  \n",
       "0                   0  \n",
       "1                   1  \n",
       "2                   1  \n",
       "3                   1  \n",
       "4                   0  "
      ]
     },
     "execution_count": 27,
     "metadata": {},
     "output_type": "execute_result"
    }
   ],
   "source": [
    "df1.head()"
   ]
  },
  {
   "cell_type": "markdown",
   "metadata": {},
   "source": [
    "# Building the Models on Spark using Pyspark"
   ]
  },
  {
   "cell_type": "code",
   "execution_count": 28,
   "metadata": {},
   "outputs": [
    {
     "name": "stderr",
     "output_type": "stream",
     "text": [
      "Exception ignored in: <function JavaWrapper.__del__ at 0x7f0bd85f6b00>\n",
      "Traceback (most recent call last):\n",
      "  File \"/home/kaushik/spark-2.4.5-bin-hadoop2.7/python/pyspark/ml/wrapper.py\", line 40, in __del__\n",
      "    if SparkContext._active_spark_context and self._java_obj is not None:\n",
      "AttributeError: 'CountVectorizer' object has no attribute '_java_obj'\n"
     ]
    }
   ],
   "source": [
    "spark = SparkSession.builder.master('local[*]').appName('nlp').getOrCreate() \n",
    "#sdf = sqlContext.sql(\"Select * from spark_input\")\n",
    "\n",
    "# Creating Soark Dataframe from Pandas Dataframe. \n",
    "sqlCtx = SQLContext(spark)\n",
    "sdf1 = sqlCtx.createDataFrame(df1)"
   ]
  },
  {
   "cell_type": "markdown",
   "metadata": {},
   "source": [
    "# Given Sentence Predicting Sentiment"
   ]
  },
  {
   "cell_type": "code",
   "execution_count": 29,
   "metadata": {},
   "outputs": [
    {
     "name": "stdout",
     "output_type": "stream",
     "text": [
      "+--------+--------------------+-------+------------------+\n",
      "|up_votes|               title|over_18|sentimental_scores|\n",
      "+--------+--------------------+-------+------------------+\n",
      "|       3|Scores killed in ...|  false|                 0|\n",
      "|       2|Japan resumes ref...|  false|                 1|\n",
      "|       3|US presses Egypt ...|  false|                 1|\n",
      "|       1|Jump-start econom...|  false|                 1|\n",
      "|       4|Council of Europe...|  false|                 0|\n",
      "+--------+--------------------+-------+------------------+\n",
      "only showing top 5 rows\n",
      "\n",
      "root\n",
      " |-- up_votes: long (nullable = true)\n",
      " |-- title: string (nullable = true)\n",
      " |-- over_18: boolean (nullable = true)\n",
      " |-- sentimental_scores: long (nullable = true)\n",
      "\n"
     ]
    }
   ],
   "source": [
    "sdf1.show(5)\n",
    "sdf1.printSchema()"
   ]
  },
  {
   "cell_type": "code",
   "execution_count": 30,
   "metadata": {},
   "outputs": [],
   "source": [
    "#sdf.groupBy('sentimental_scores').count().show()\n",
    "#sdf1 = sdf.filter(sdf.sentimental_scores. isNotNull())\n",
    "#sdf1.show(5)"
   ]
  },
  {
   "cell_type": "code",
   "execution_count": 31,
   "metadata": {},
   "outputs": [
    {
     "name": "stdout",
     "output_type": "stream",
     "text": [
      "+------------------+------+\n",
      "|sentimental_scores| count|\n",
      "+------------------+------+\n",
      "|                 0|268872|\n",
      "|                 1|240364|\n",
      "+------------------+------+\n",
      "\n"
     ]
    }
   ],
   "source": [
    "# Creating the dataframe with title and sentimental scores.\n",
    "data = sdf1.select([\"title\",\"sentimental_scores\"])\n",
    "data.groupBy('sentimental_scores').count().show()"
   ]
  },
  {
   "cell_type": "code",
   "execution_count": 32,
   "metadata": {},
   "outputs": [
    {
     "name": "stdout",
     "output_type": "stream",
     "text": [
      "+--------------------+------------------+------+\n",
      "|               title|sentimental_scores|length|\n",
      "+--------------------+------------------+------+\n",
      "|Scores killed in ...|                 0|    33|\n",
      "|Japan resumes ref...|                 1|    32|\n",
      "|US presses Egypt ...|                 1|    31|\n",
      "|Jump-start econom...|                 1|    44|\n",
      "|Council of Europe...|                 0|    47|\n",
      "+--------------------+------------------+------+\n",
      "only showing top 5 rows\n",
      "\n"
     ]
    }
   ],
   "source": [
    "#Adding Length of each sentence\n",
    "data = data.withColumn('length',length(data['title']))\n",
    "data.show(5)"
   ]
  },
  {
   "cell_type": "code",
   "execution_count": 33,
   "metadata": {},
   "outputs": [
    {
     "name": "stdout",
     "output_type": "stream",
     "text": [
      "+------------------+-----------------------+-----------------+\n",
      "|sentimental_scores|avg(sentimental_scores)|      avg(length)|\n",
      "+------------------+-----------------------+-----------------+\n",
      "|                 0|                    0.0|95.76083787080842|\n",
      "|                 1|                    1.0|82.38237423241416|\n",
      "+------------------+-----------------------+-----------------+\n",
      "\n"
     ]
    }
   ],
   "source": [
    "#Checking the mean Length of the Positive and Negative sentiments\n",
    "data.groupBy('sentimental_scores').mean().show()"
   ]
  },
  {
   "cell_type": "markdown",
   "metadata": {},
   "source": [
    "# Support vector classifier to predict the sentiment of the given title."
   ]
  },
  {
   "cell_type": "code",
   "execution_count": 34,
   "metadata": {},
   "outputs": [],
   "source": [
    "svc = LinearSVC()"
   ]
  },
  {
   "cell_type": "markdown",
   "metadata": {},
   "source": [
    "Building the Pipeline"
   ]
  },
  {
   "cell_type": "code",
   "execution_count": 35,
   "metadata": {},
   "outputs": [],
   "source": [
    "tokenizer = Tokenizer(inputCol=\"title\", outputCol='token_text')\n",
    "stopremove = StopWordsRemover(inputCol=\"token_text\", outputCol=\"stop_tokens\")\n",
    "count_vec = CountVectorizer(inputCol=\"stop_tokens\", outputCol='c_vec')\n",
    "idf = IDF(inputCol='c_vec', outputCol='tf_idf')\n",
    "clean_up = VectorAssembler(inputCols=['tf_idf','length'], outputCol='features')"
   ]
  },
  {
   "cell_type": "code",
   "execution_count": 36,
   "metadata": {},
   "outputs": [],
   "source": [
    "# Creating the pipline for the above process. \n",
    "data_prep_pipe = Pipeline(stages=[tokenizer,stopremove,count_vec,idf,clean_up])"
   ]
  },
  {
   "cell_type": "code",
   "execution_count": 37,
   "metadata": {},
   "outputs": [],
   "source": [
    "# Passing the data through the pipline and preparing it for the ml model\n",
    "cleaner = data_prep_pipe.fit(data)\n",
    "cleaner_data = cleaner.transform(data)"
   ]
  },
  {
   "cell_type": "markdown",
   "metadata": {},
   "source": [
    "Training and Evaluation"
   ]
  },
  {
   "cell_type": "code",
   "execution_count": 38,
   "metadata": {},
   "outputs": [
    {
     "name": "stdout",
     "output_type": "stream",
     "text": [
      "+-----+--------------------+\n",
      "|label|            features|\n",
      "+-----+--------------------+\n",
      "|    0|(209724,[15,52,41...|\n",
      "|    1|(209724,[47,601,4...|\n",
      "|    1|(209724,[5,55,71,...|\n",
      "|    1|(209724,[293,488,...|\n",
      "|    0|(209724,[105,156,...|\n",
      "+-----+--------------------+\n",
      "only showing top 5 rows\n",
      "\n"
     ]
    }
   ],
   "source": [
    "#Renaming the sentiment_score column to label as thats the name accepted by the model\n",
    "clean_data = cleaner_data.select(col('sentimental_scores').alias('label'),col('features'))\n",
    "clean_data.show(5)"
   ]
  },
  {
   "cell_type": "code",
   "execution_count": 31,
   "metadata": {},
   "outputs": [
    {
     "data": {
      "text/html": [
       "<style scoped>\n",
       "  .ansiout {\n",
       "    display: block;\n",
       "    unicode-bidi: embed;\n",
       "    white-space: pre-wrap;\n",
       "    word-wrap: break-word;\n",
       "    word-break: break-all;\n",
       "    font-family: \"Source Code Pro\", \"Menlo\", monospace;;\n",
       "    font-size: 13px;\n",
       "    color: #555;\n",
       "    margin-left: 4px;\n",
       "    line-height: 19px;\n",
       "  }\n",
       "</style>\n",
       "<div class=\"ansiout\"></div>"
      ]
     },
     "metadata": {},
     "output_type": "display_data"
    }
   ],
   "source": [
    "# Performing the train test split. (Training data = 70%, Testing data = 30%)\n",
    "(train,test) = clean_data.randomSplit([0.7,0.3])\n",
    "sentiment_classifier = svc.fit(train)\n",
    "#sentiment_classifier.save(\"sentimental_classifier.model\")"
   ]
  },
  {
   "cell_type": "code",
   "execution_count": 32,
   "metadata": {},
   "outputs": [
    {
     "data": {
      "text/html": [
       "<style scoped>\n",
       "  .ansiout {\n",
       "    display: block;\n",
       "    unicode-bidi: embed;\n",
       "    white-space: pre-wrap;\n",
       "    word-wrap: break-word;\n",
       "    word-break: break-all;\n",
       "    font-family: \"Source Code Pro\", \"Menlo\", monospace;;\n",
       "    font-size: 13px;\n",
       "    color: #555;\n",
       "    margin-left: 4px;\n",
       "    line-height: 19px;\n",
       "  }\n",
       "</style>\n",
       "<div class=\"ansiout\">+-----+--------------------+--------------------+----------+\n",
       "label|            features|       rawPrediction|prediction|\n",
       "+-----+--------------------+--------------------+----------+\n",
       "    0|(206619,[0,1,2,4,...|[1.19019789719871...|       0.0|\n",
       "    0|(206619,[0,1,2,11...|[4.52126181813965...|       0.0|\n",
       "    0|(206619,[0,1,2,15...|[4.84003000567511...|       0.0|\n",
       "    0|(206619,[0,1,2,23...|[0.80778368040351...|       0.0|\n",
       "    0|(206619,[0,1,2,24...|[7.26957563794252...|       0.0|\n",
       "+-----+--------------------+--------------------+----------+\n",
       "only showing top 5 rows\n",
       "\n",
       "</div>"
      ]
     },
     "metadata": {},
     "output_type": "display_data"
    }
   ],
   "source": [
    "#sentiment_classifier = LinearSVC.load(\"spark-2.4.5-bin-hadoop2.7/python/sentimental_classifier.model\")\n",
    "test_results = sentiment_classifier.transform(test)\n",
    "test_results.show(5)"
   ]
  },
  {
   "cell_type": "markdown",
   "metadata": {},
   "source": [
    "Model Evaluation"
   ]
  },
  {
   "cell_type": "code",
   "execution_count": 34,
   "metadata": {},
   "outputs": [
    {
     "data": {
      "text/html": [
       "<style scoped>\n",
       "  .ansiout {\n",
       "    display: block;\n",
       "    unicode-bidi: embed;\n",
       "    white-space: pre-wrap;\n",
       "    word-wrap: break-word;\n",
       "    word-break: break-all;\n",
       "    font-family: \"Source Code Pro\", \"Menlo\", monospace;;\n",
       "    font-size: 13px;\n",
       "    color: #555;\n",
       "    margin-left: 4px;\n",
       "    line-height: 19px;\n",
       "  }\n",
       "</style>\n",
       "<div class=\"ansiout\"></div>"
      ]
     },
     "metadata": {},
     "output_type": "display_data"
    }
   ],
   "source": [
    "# Evaluating the models performance. \n",
    "acc_eval = MulticlassClassificationEvaluator()\n",
    "acc = acc_eval.evaluate(test_results)"
   ]
  },
  {
   "cell_type": "code",
   "execution_count": 35,
   "metadata": {},
   "outputs": [
    {
     "data": {
      "text/html": [
       "<style scoped>\n",
       "  .ansiout {\n",
       "    display: block;\n",
       "    unicode-bidi: embed;\n",
       "    white-space: pre-wrap;\n",
       "    word-wrap: break-word;\n",
       "    word-break: break-all;\n",
       "    font-family: \"Source Code Pro\", \"Menlo\", monospace;;\n",
       "    font-size: 13px;\n",
       "    color: #555;\n",
       "    margin-left: 4px;\n",
       "    line-height: 19px;\n",
       "  }\n",
       "</style>\n",
       "<div class=\"ansiout\">0.9474405865641575\n",
       "</div>"
      ]
     },
     "metadata": {},
     "output_type": "display_data"
    }
   ],
   "source": [
    "print(acc)"
   ]
  },
  {
   "cell_type": "markdown",
   "metadata": {},
   "source": [
    "# Regression model to predict the upvotes"
   ]
  },
  {
   "cell_type": "code",
   "execution_count": 37,
   "metadata": {},
   "outputs": [
    {
     "data": {
      "text/html": [
       "<style scoped>\n",
       "  .ansiout {\n",
       "    display: block;\n",
       "    unicode-bidi: embed;\n",
       "    white-space: pre-wrap;\n",
       "    word-wrap: break-word;\n",
       "    word-break: break-all;\n",
       "    font-family: \"Source Code Pro\", \"Menlo\", monospace;;\n",
       "    font-size: 13px;\n",
       "    color: #555;\n",
       "    margin-left: 4px;\n",
       "    line-height: 19px;\n",
       "  }\n",
       "</style>\n",
       "<div class=\"ansiout\"></div>"
      ]
     },
     "metadata": {},
     "output_type": "display_data"
    }
   ],
   "source": [
    "# Creating a dataframe for regression model and creating a pipeline to format this data to feed into regression model\n",
    "data1 = sdf1.select([\"title\",\"up_votes\"])\n",
    "regg_model = VectorAssembler(inputCols=['tf_idf'], outputCol='features')\n",
    "data_prep_pipe1 = Pipeline(stages=[tokenizer,stopremove,count_vec,idf,regg_model])"
   ]
  },
  {
   "cell_type": "code",
   "execution_count": 38,
   "metadata": {},
   "outputs": [
    {
     "data": {
      "text/html": [
       "<style scoped>\n",
       "  .ansiout {\n",
       "    display: block;\n",
       "    unicode-bidi: embed;\n",
       "    white-space: pre-wrap;\n",
       "    word-wrap: break-word;\n",
       "    word-break: break-all;\n",
       "    font-family: \"Source Code Pro\", \"Menlo\", monospace;;\n",
       "    font-size: 13px;\n",
       "    color: #555;\n",
       "    margin-left: 4px;\n",
       "    line-height: 19px;\n",
       "  }\n",
       "</style>\n",
       "<div class=\"ansiout\"></div>"
      ]
     },
     "metadata": {},
     "output_type": "display_data"
    }
   ],
   "source": [
    "# Passing the data through the pipline and preparing it for the ml model\n",
    "cleaner = data_prep_pipe1.fit(data1)\n",
    "clean_data = cleaner.transform(data1)\n",
    "c_data = clean_data.select([\"up_votes\",\"features\"])"
   ]
  },
  {
   "cell_type": "markdown",
   "metadata": {},
   "source": [
    "Building the model"
   ]
  },
  {
   "cell_type": "code",
   "execution_count": 42,
   "metadata": {},
   "outputs": [
    {
     "data": {
      "text/html": [
       "<style scoped>\n",
       "  .ansiout {\n",
       "    display: block;\n",
       "    unicode-bidi: embed;\n",
       "    white-space: pre-wrap;\n",
       "    word-wrap: break-word;\n",
       "    word-break: break-all;\n",
       "    font-family: \"Source Code Pro\", \"Menlo\", monospace;;\n",
       "    font-size: 13px;\n",
       "    color: #555;\n",
       "    margin-left: 4px;\n",
       "    line-height: 19px;\n",
       "  }\n",
       "</style>\n",
       "<div class=\"ansiout\"></div>"
      ]
     },
     "metadata": {},
     "output_type": "display_data"
    }
   ],
   "source": [
    "# Performing train test split and creating the linear regression model\n",
    "train_data, test_data = c_data.randomSplit([0.7,0.3])\n",
    "lr = LinearRegression(labelCol=\"up_votes\")"
   ]
  },
  {
   "cell_type": "code",
   "execution_count": 44,
   "metadata": {},
   "outputs": [
    {
     "data": {
      "text/html": [
       "<style scoped>\n",
       "  .ansiout {\n",
       "    display: block;\n",
       "    unicode-bidi: embed;\n",
       "    white-space: pre-wrap;\n",
       "    word-wrap: break-word;\n",
       "    word-break: break-all;\n",
       "    font-family: \"Source Code Pro\", \"Menlo\", monospace;;\n",
       "    font-size: 13px;\n",
       "    color: #555;\n",
       "    margin-left: 4px;\n",
       "    line-height: 19px;\n",
       "  }\n",
       "</style>\n",
       "<div class=\"ansiout\"></div>"
      ]
     },
     "metadata": {},
     "output_type": "display_data"
    }
   ],
   "source": [
    "# Fitting the model to the training data\n",
    "lrModel = lr.fit(train_data)"
   ]
  },
  {
   "cell_type": "code",
   "execution_count": 45,
   "metadata": {},
   "outputs": [
    {
     "data": {
      "text/html": [
       "<style scoped>\n",
       "  .ansiout {\n",
       "    display: block;\n",
       "    unicode-bidi: embed;\n",
       "    white-space: pre-wrap;\n",
       "    word-wrap: break-word;\n",
       "    word-break: break-all;\n",
       "    font-family: \"Source Code Pro\", \"Menlo\", monospace;;\n",
       "    font-size: 13px;\n",
       "    color: #555;\n",
       "    margin-left: 4px;\n",
       "    line-height: 19px;\n",
       "  }\n",
       "</style>\n",
       "<div class=\"ansiout\"></div>"
      ]
     },
     "metadata": {},
     "output_type": "display_data"
    }
   ],
   "source": [
    "# Evaluating the test data \n",
    "result = lrModel.evaluate(test_data)"
   ]
  },
  {
   "cell_type": "code",
   "execution_count": 46,
   "metadata": {},
   "outputs": [
    {
     "data": {
      "text/html": [
       "<style scoped>\n",
       "  .ansiout {\n",
       "    display: block;\n",
       "    unicode-bidi: embed;\n",
       "    white-space: pre-wrap;\n",
       "    word-wrap: break-word;\n",
       "    word-break: break-all;\n",
       "    font-family: \"Source Code Pro\", \"Menlo\", monospace;;\n",
       "    font-size: 13px;\n",
       "    color: #555;\n",
       "    margin-left: 4px;\n",
       "    line-height: 19px;\n",
       "  }\n",
       "</style>\n",
       "<div class=\"ansiout\">RMSE: 697.5812308511285\n",
       "MSE: 486619.5736357753\n",
       "R2: -0.6088073349835883\n",
       "</div>"
      ]
     },
     "metadata": {},
     "output_type": "display_data"
    }
   ],
   "source": [
    "# Checking the model Statistics\n",
    "print(\"RMSE: {}\".format(result.rootMeanSquaredError))\n",
    "print(\"MSE: {}\".format(result.meanSquaredError))\n",
    "print(\"R2: {}\".format(result.r2))"
   ]
  },
  {
   "cell_type": "markdown",
   "metadata": {},
   "source": [
    "# Topic Modelling using LDA (Spark version)\n",
    "\n",
    "\n",
    "    Since the news is categorised into only worldnews, i will further split it into 5 more topics using LDA."
   ]
  },
  {
   "cell_type": "code",
   "execution_count": 40,
   "metadata": {},
   "outputs": [
    {
     "name": "stdout",
     "output_type": "stream",
     "text": [
      "+--------+--------------------+-------+------------------+\n",
      "|up_votes|               title|over_18|sentimental_scores|\n",
      "+--------+--------------------+-------+------------------+\n",
      "|       3|Scores killed in ...|  false|                 0|\n",
      "|       2|Japan resumes ref...|  false|                 1|\n",
      "|       3|US presses Egypt ...|  false|                 1|\n",
      "|       1|Jump-start econom...|  false|                 1|\n",
      "|       4|Council of Europe...|  false|                 0|\n",
      "+--------+--------------------+-------+------------------+\n",
      "only showing top 5 rows\n",
      "\n"
     ]
    }
   ],
   "source": [
    "sdf1.show(5)"
   ]
  },
  {
   "cell_type": "code",
   "execution_count": 41,
   "metadata": {},
   "outputs": [],
   "source": [
    "lda_data = sdf1.select(\"title\")"
   ]
  },
  {
   "cell_type": "code",
   "execution_count": 42,
   "metadata": {},
   "outputs": [],
   "source": [
    "# Defining the pipeline for LDA \n",
    "LDA_pipe = Pipeline(stages=[tokenizer,stopremove,count_vec,idf])"
   ]
  },
  {
   "cell_type": "code",
   "execution_count": 43,
   "metadata": {},
   "outputs": [
    {
     "name": "stdout",
     "output_type": "stream",
     "text": [
      "+--------------------+\n",
      "|            features|\n",
      "+--------------------+\n",
      "|(209723,[15,52,41...|\n",
      "|(209723,[47,601,4...|\n",
      "|(209723,[5,55,71,...|\n",
      "|(209723,[293,487,...|\n",
      "|(209723,[105,156,...|\n",
      "+--------------------+\n",
      "only showing top 5 rows\n",
      "\n"
     ]
    }
   ],
   "source": [
    "# Fitting and the transforming the data using the defined pipeline\n",
    "LDA_clean_data = LDA_pipe.fit(lda_data)\n",
    "lda_clean_ = LDA_clean_data.transform(lda_data)\n",
    "lda_clean_ = lda_clean_.select(col(\"tf_idf\").alias(\"features\"))\n",
    "lda_clean_.show(5)"
   ]
  },
  {
   "cell_type": "code",
   "execution_count": 46,
   "metadata": {},
   "outputs": [
    {
     "data": {
      "text/plain": [
       "'\\n# Building the LDA Model\\nnum_topics = 5\\nmax_iterations = 100\\n\\nlda_model = LDA.train(lda_clean_.select(\"features\").rdd.map(list), k=num_topics, maxIterations=max_iterations)\\n'"
      ]
     },
     "execution_count": 46,
     "metadata": {},
     "output_type": "execute_result"
    }
   ],
   "source": [
    "# Building the LDA Model\n",
    "num_topics = 5\n",
    "max_iterations = 100\n",
    "\n",
    "lda_model = LDA.train(lda_clean_.select(\"features\").rdd.map(list), k=num_topics, maxIterations=max_iterations)"
   ]
  },
  {
   "cell_type": "code",
   "execution_count": 1,
   "metadata": {},
   "outputs": [],
   "source": [
    "# Displaying the top 5 words from the LDA model"
   ]
  },
  {
   "cell_type": "code",
   "execution_count": 3,
   "metadata": {},
   "outputs": [
    {
     "data": {
      "text/plain": [
       "'\\nwordNumbers = 5  \\n\\ntopicIndices = sc.parallelize(lda_model.describeTopics\\\\(maxTermsPerTopic = wordNumbers))\\n\\ndef topic_render(topic):\\n    terms = topic[0]\\n    result = []\\n    for i in range(wordNumbers):\\n        term = vocabArray[terms[i]]\\n        result.append(term)\\n    return result\\n  \\ntopics_final = topicIndices.map(lambda topic: topic_render(topic)).collect()\\nfor topic in range(len(topics_final)):\\n    print (\"Topic\" + str(topic) + \":\")\\n    for term in topics_final[topic]:\\n        print (term)\\n    print (\\'\\n\\')\\n'"
      ]
     },
     "execution_count": 3,
     "metadata": {},
     "output_type": "execute_result"
    }
   ],
   "source": [
    "wordNumbers = 5  \n",
    "\n",
    "topicIndices = sc.parallelize(lda_model.describeTopics\\(maxTermsPerTopic = wordNumbers))\n",
    "\n",
    "def topic_render(topic):\n",
    "    terms = topic[0]\n",
    "    result = []\n",
    "    for i in range(wordNumbers):\n",
    "        term = vocabArray[terms[i]]\n",
    "        result.append(term)\n",
    "    return result\n",
    "  \n",
    "topics_final = topicIndices.map(lambda topic: topic_render(topic)).collect()\n",
    "for topic in range(len(topics_final)):\n",
    "    print (\"Topic\" + str(topic) + \":\")\n",
    "    for term in topics_final[topic]:\n",
    "        print (term)\n",
    "    print ('\\n')"
   ]
  },
  {
   "cell_type": "code",
   "execution_count": null,
   "metadata": {},
   "outputs": [],
   "source": []
  },
  {
   "cell_type": "code",
   "execution_count": null,
   "metadata": {},
   "outputs": [],
   "source": []
  }
 ],
 "metadata": {
  "kernelspec": {
   "display_name": "Python 3",
   "language": "python",
   "name": "python3"
  },
  "language_info": {
   "codemirror_mode": {
    "name": "ipython",
    "version": 3
   },
   "file_extension": ".py",
   "mimetype": "text/x-python",
   "name": "python",
   "nbconvert_exporter": "python",
   "pygments_lexer": "ipython3",
   "version": "3.7.3"
  },
  "name": "take_home_final",
  "notebookId": 4158039189465070
 },
 "nbformat": 4,
 "nbformat_minor": 1
}
